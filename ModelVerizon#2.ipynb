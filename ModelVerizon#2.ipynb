{
 "cells": [
  {
   "cell_type": "code",
   "execution_count": 203,
   "metadata": {},
   "outputs": [],
   "source": [
    "import pandas as pd\n",
    "import numpy as np\n",
    "import os\n",
    "import matplotlib.pyplot as plt\n",
    "import seaborn as sns\n",
    "from scipy import stats\n",
    "from sklearn.preprocessing import MinMaxScaler\n",
    "from function import visualize_column as dv\n",
    "from sklearn.ensemble import RandomForestClassifier  # for classification\n",
    "from sklearn.metrics import accuracy_score           # for classification\n"
   ]
  },
  {
   "cell_type": "code",
   "execution_count": 204,
   "metadata": {},
   "outputs": [
    {
     "data": {
      "text/html": [
       "<div>\n",
       "<style scoped>\n",
       "    .dataframe tbody tr th:only-of-type {\n",
       "        vertical-align: middle;\n",
       "    }\n",
       "\n",
       "    .dataframe tbody tr th {\n",
       "        vertical-align: top;\n",
       "    }\n",
       "\n",
       "    .dataframe thead th {\n",
       "        text-align: right;\n",
       "    }\n",
       "</style>\n",
       "<table border=\"1\" class=\"dataframe\">\n",
       "  <thead>\n",
       "    <tr style=\"text-align: right;\">\n",
       "      <th></th>\n",
       "      <th>customerID</th>\n",
       "      <th>gender</th>\n",
       "      <th>SeniorCitizen</th>\n",
       "      <th>Partner</th>\n",
       "      <th>Dependents</th>\n",
       "      <th>tenure</th>\n",
       "      <th>PhoneService</th>\n",
       "      <th>MultipleLines</th>\n",
       "      <th>InternetService</th>\n",
       "      <th>OnlineSecurity</th>\n",
       "      <th>...</th>\n",
       "      <th>DeviceProtection</th>\n",
       "      <th>TechSupport</th>\n",
       "      <th>StreamingTV</th>\n",
       "      <th>StreamingMovies</th>\n",
       "      <th>Contract</th>\n",
       "      <th>PaperlessBilling</th>\n",
       "      <th>PaymentMethod</th>\n",
       "      <th>MonthlyCharges</th>\n",
       "      <th>TotalCharges</th>\n",
       "      <th>Churn</th>\n",
       "    </tr>\n",
       "  </thead>\n",
       "  <tbody>\n",
       "    <tr>\n",
       "      <th>0</th>\n",
       "      <td>7590-VHVEG</td>\n",
       "      <td>Female</td>\n",
       "      <td>0</td>\n",
       "      <td>Yes</td>\n",
       "      <td>No</td>\n",
       "      <td>1</td>\n",
       "      <td>No</td>\n",
       "      <td>No phone service</td>\n",
       "      <td>DSL</td>\n",
       "      <td>No</td>\n",
       "      <td>...</td>\n",
       "      <td>No</td>\n",
       "      <td>No</td>\n",
       "      <td>No</td>\n",
       "      <td>No</td>\n",
       "      <td>Month-to-month</td>\n",
       "      <td>Yes</td>\n",
       "      <td>Electronic check</td>\n",
       "      <td>29.85</td>\n",
       "      <td>29.85</td>\n",
       "      <td>No</td>\n",
       "    </tr>\n",
       "    <tr>\n",
       "      <th>1</th>\n",
       "      <td>5575-GNVDE</td>\n",
       "      <td>Male</td>\n",
       "      <td>0</td>\n",
       "      <td>No</td>\n",
       "      <td>No</td>\n",
       "      <td>34</td>\n",
       "      <td>Yes</td>\n",
       "      <td>No</td>\n",
       "      <td>DSL</td>\n",
       "      <td>Yes</td>\n",
       "      <td>...</td>\n",
       "      <td>Yes</td>\n",
       "      <td>No</td>\n",
       "      <td>No</td>\n",
       "      <td>No</td>\n",
       "      <td>One year</td>\n",
       "      <td>No</td>\n",
       "      <td>Mailed check</td>\n",
       "      <td>56.95</td>\n",
       "      <td>1889.5</td>\n",
       "      <td>No</td>\n",
       "    </tr>\n",
       "    <tr>\n",
       "      <th>2</th>\n",
       "      <td>3668-QPYBK</td>\n",
       "      <td>Male</td>\n",
       "      <td>0</td>\n",
       "      <td>No</td>\n",
       "      <td>No</td>\n",
       "      <td>2</td>\n",
       "      <td>Yes</td>\n",
       "      <td>No</td>\n",
       "      <td>DSL</td>\n",
       "      <td>Yes</td>\n",
       "      <td>...</td>\n",
       "      <td>No</td>\n",
       "      <td>No</td>\n",
       "      <td>No</td>\n",
       "      <td>No</td>\n",
       "      <td>Month-to-month</td>\n",
       "      <td>Yes</td>\n",
       "      <td>Mailed check</td>\n",
       "      <td>53.85</td>\n",
       "      <td>108.15</td>\n",
       "      <td>Yes</td>\n",
       "    </tr>\n",
       "    <tr>\n",
       "      <th>3</th>\n",
       "      <td>7795-CFOCW</td>\n",
       "      <td>Male</td>\n",
       "      <td>0</td>\n",
       "      <td>No</td>\n",
       "      <td>No</td>\n",
       "      <td>45</td>\n",
       "      <td>No</td>\n",
       "      <td>No phone service</td>\n",
       "      <td>DSL</td>\n",
       "      <td>Yes</td>\n",
       "      <td>...</td>\n",
       "      <td>Yes</td>\n",
       "      <td>Yes</td>\n",
       "      <td>No</td>\n",
       "      <td>No</td>\n",
       "      <td>One year</td>\n",
       "      <td>No</td>\n",
       "      <td>Bank transfer (automatic)</td>\n",
       "      <td>42.30</td>\n",
       "      <td>1840.75</td>\n",
       "      <td>No</td>\n",
       "    </tr>\n",
       "    <tr>\n",
       "      <th>4</th>\n",
       "      <td>9237-HQITU</td>\n",
       "      <td>Female</td>\n",
       "      <td>0</td>\n",
       "      <td>No</td>\n",
       "      <td>No</td>\n",
       "      <td>2</td>\n",
       "      <td>Yes</td>\n",
       "      <td>No</td>\n",
       "      <td>Fiber optic</td>\n",
       "      <td>No</td>\n",
       "      <td>...</td>\n",
       "      <td>No</td>\n",
       "      <td>No</td>\n",
       "      <td>No</td>\n",
       "      <td>No</td>\n",
       "      <td>Month-to-month</td>\n",
       "      <td>Yes</td>\n",
       "      <td>Electronic check</td>\n",
       "      <td>70.70</td>\n",
       "      <td>151.65</td>\n",
       "      <td>Yes</td>\n",
       "    </tr>\n",
       "    <tr>\n",
       "      <th>5</th>\n",
       "      <td>9305-CDSKC</td>\n",
       "      <td>Female</td>\n",
       "      <td>0</td>\n",
       "      <td>No</td>\n",
       "      <td>No</td>\n",
       "      <td>8</td>\n",
       "      <td>Yes</td>\n",
       "      <td>Yes</td>\n",
       "      <td>Fiber optic</td>\n",
       "      <td>No</td>\n",
       "      <td>...</td>\n",
       "      <td>Yes</td>\n",
       "      <td>No</td>\n",
       "      <td>Yes</td>\n",
       "      <td>Yes</td>\n",
       "      <td>Month-to-month</td>\n",
       "      <td>Yes</td>\n",
       "      <td>Electronic check</td>\n",
       "      <td>99.65</td>\n",
       "      <td>820.5</td>\n",
       "      <td>Yes</td>\n",
       "    </tr>\n",
       "    <tr>\n",
       "      <th>6</th>\n",
       "      <td>1452-KIOVK</td>\n",
       "      <td>Male</td>\n",
       "      <td>0</td>\n",
       "      <td>No</td>\n",
       "      <td>Yes</td>\n",
       "      <td>22</td>\n",
       "      <td>Yes</td>\n",
       "      <td>Yes</td>\n",
       "      <td>Fiber optic</td>\n",
       "      <td>No</td>\n",
       "      <td>...</td>\n",
       "      <td>No</td>\n",
       "      <td>No</td>\n",
       "      <td>Yes</td>\n",
       "      <td>No</td>\n",
       "      <td>Month-to-month</td>\n",
       "      <td>Yes</td>\n",
       "      <td>Credit card (automatic)</td>\n",
       "      <td>89.10</td>\n",
       "      <td>1949.4</td>\n",
       "      <td>No</td>\n",
       "    </tr>\n",
       "    <tr>\n",
       "      <th>7</th>\n",
       "      <td>6713-OKOMC</td>\n",
       "      <td>Female</td>\n",
       "      <td>0</td>\n",
       "      <td>No</td>\n",
       "      <td>No</td>\n",
       "      <td>10</td>\n",
       "      <td>No</td>\n",
       "      <td>No phone service</td>\n",
       "      <td>DSL</td>\n",
       "      <td>Yes</td>\n",
       "      <td>...</td>\n",
       "      <td>No</td>\n",
       "      <td>No</td>\n",
       "      <td>No</td>\n",
       "      <td>No</td>\n",
       "      <td>Month-to-month</td>\n",
       "      <td>No</td>\n",
       "      <td>Mailed check</td>\n",
       "      <td>29.75</td>\n",
       "      <td>301.9</td>\n",
       "      <td>No</td>\n",
       "    </tr>\n",
       "    <tr>\n",
       "      <th>8</th>\n",
       "      <td>7892-POOKP</td>\n",
       "      <td>Female</td>\n",
       "      <td>0</td>\n",
       "      <td>Yes</td>\n",
       "      <td>No</td>\n",
       "      <td>28</td>\n",
       "      <td>Yes</td>\n",
       "      <td>Yes</td>\n",
       "      <td>Fiber optic</td>\n",
       "      <td>No</td>\n",
       "      <td>...</td>\n",
       "      <td>Yes</td>\n",
       "      <td>Yes</td>\n",
       "      <td>Yes</td>\n",
       "      <td>Yes</td>\n",
       "      <td>Month-to-month</td>\n",
       "      <td>Yes</td>\n",
       "      <td>Electronic check</td>\n",
       "      <td>104.80</td>\n",
       "      <td>3046.05</td>\n",
       "      <td>Yes</td>\n",
       "    </tr>\n",
       "    <tr>\n",
       "      <th>9</th>\n",
       "      <td>6388-TABGU</td>\n",
       "      <td>Male</td>\n",
       "      <td>0</td>\n",
       "      <td>No</td>\n",
       "      <td>Yes</td>\n",
       "      <td>62</td>\n",
       "      <td>Yes</td>\n",
       "      <td>No</td>\n",
       "      <td>DSL</td>\n",
       "      <td>Yes</td>\n",
       "      <td>...</td>\n",
       "      <td>No</td>\n",
       "      <td>No</td>\n",
       "      <td>No</td>\n",
       "      <td>No</td>\n",
       "      <td>One year</td>\n",
       "      <td>No</td>\n",
       "      <td>Bank transfer (automatic)</td>\n",
       "      <td>56.15</td>\n",
       "      <td>3487.95</td>\n",
       "      <td>No</td>\n",
       "    </tr>\n",
       "    <tr>\n",
       "      <th>10</th>\n",
       "      <td>9763-GRSKD</td>\n",
       "      <td>Male</td>\n",
       "      <td>0</td>\n",
       "      <td>Yes</td>\n",
       "      <td>Yes</td>\n",
       "      <td>13</td>\n",
       "      <td>Yes</td>\n",
       "      <td>No</td>\n",
       "      <td>DSL</td>\n",
       "      <td>Yes</td>\n",
       "      <td>...</td>\n",
       "      <td>No</td>\n",
       "      <td>No</td>\n",
       "      <td>No</td>\n",
       "      <td>No</td>\n",
       "      <td>Month-to-month</td>\n",
       "      <td>Yes</td>\n",
       "      <td>Mailed check</td>\n",
       "      <td>49.95</td>\n",
       "      <td>587.45</td>\n",
       "      <td>No</td>\n",
       "    </tr>\n",
       "    <tr>\n",
       "      <th>11</th>\n",
       "      <td>7469-LKBCI</td>\n",
       "      <td>Male</td>\n",
       "      <td>0</td>\n",
       "      <td>No</td>\n",
       "      <td>No</td>\n",
       "      <td>16</td>\n",
       "      <td>Yes</td>\n",
       "      <td>No</td>\n",
       "      <td>No</td>\n",
       "      <td>No internet service</td>\n",
       "      <td>...</td>\n",
       "      <td>No internet service</td>\n",
       "      <td>No internet service</td>\n",
       "      <td>No internet service</td>\n",
       "      <td>No internet service</td>\n",
       "      <td>Two year</td>\n",
       "      <td>No</td>\n",
       "      <td>Credit card (automatic)</td>\n",
       "      <td>18.95</td>\n",
       "      <td>326.8</td>\n",
       "      <td>No</td>\n",
       "    </tr>\n",
       "    <tr>\n",
       "      <th>12</th>\n",
       "      <td>8091-TTVAX</td>\n",
       "      <td>Male</td>\n",
       "      <td>0</td>\n",
       "      <td>Yes</td>\n",
       "      <td>No</td>\n",
       "      <td>58</td>\n",
       "      <td>Yes</td>\n",
       "      <td>Yes</td>\n",
       "      <td>Fiber optic</td>\n",
       "      <td>No</td>\n",
       "      <td>...</td>\n",
       "      <td>Yes</td>\n",
       "      <td>No</td>\n",
       "      <td>Yes</td>\n",
       "      <td>Yes</td>\n",
       "      <td>One year</td>\n",
       "      <td>No</td>\n",
       "      <td>Credit card (automatic)</td>\n",
       "      <td>100.35</td>\n",
       "      <td>5681.1</td>\n",
       "      <td>No</td>\n",
       "    </tr>\n",
       "    <tr>\n",
       "      <th>13</th>\n",
       "      <td>0280-XJGEX</td>\n",
       "      <td>Male</td>\n",
       "      <td>0</td>\n",
       "      <td>No</td>\n",
       "      <td>No</td>\n",
       "      <td>49</td>\n",
       "      <td>Yes</td>\n",
       "      <td>Yes</td>\n",
       "      <td>Fiber optic</td>\n",
       "      <td>No</td>\n",
       "      <td>...</td>\n",
       "      <td>Yes</td>\n",
       "      <td>No</td>\n",
       "      <td>Yes</td>\n",
       "      <td>Yes</td>\n",
       "      <td>Month-to-month</td>\n",
       "      <td>Yes</td>\n",
       "      <td>Bank transfer (automatic)</td>\n",
       "      <td>103.70</td>\n",
       "      <td>5036.3</td>\n",
       "      <td>Yes</td>\n",
       "    </tr>\n",
       "    <tr>\n",
       "      <th>14</th>\n",
       "      <td>5129-JLPIS</td>\n",
       "      <td>Male</td>\n",
       "      <td>0</td>\n",
       "      <td>No</td>\n",
       "      <td>No</td>\n",
       "      <td>25</td>\n",
       "      <td>Yes</td>\n",
       "      <td>No</td>\n",
       "      <td>Fiber optic</td>\n",
       "      <td>Yes</td>\n",
       "      <td>...</td>\n",
       "      <td>Yes</td>\n",
       "      <td>Yes</td>\n",
       "      <td>Yes</td>\n",
       "      <td>Yes</td>\n",
       "      <td>Month-to-month</td>\n",
       "      <td>Yes</td>\n",
       "      <td>Electronic check</td>\n",
       "      <td>105.50</td>\n",
       "      <td>2686.05</td>\n",
       "      <td>No</td>\n",
       "    </tr>\n",
       "  </tbody>\n",
       "</table>\n",
       "<p>15 rows × 21 columns</p>\n",
       "</div>"
      ],
      "text/plain": [
       "    customerID  gender  SeniorCitizen Partner Dependents  tenure PhoneService  \\\n",
       "0   7590-VHVEG  Female              0     Yes         No       1           No   \n",
       "1   5575-GNVDE    Male              0      No         No      34          Yes   \n",
       "2   3668-QPYBK    Male              0      No         No       2          Yes   \n",
       "3   7795-CFOCW    Male              0      No         No      45           No   \n",
       "4   9237-HQITU  Female              0      No         No       2          Yes   \n",
       "5   9305-CDSKC  Female              0      No         No       8          Yes   \n",
       "6   1452-KIOVK    Male              0      No        Yes      22          Yes   \n",
       "7   6713-OKOMC  Female              0      No         No      10           No   \n",
       "8   7892-POOKP  Female              0     Yes         No      28          Yes   \n",
       "9   6388-TABGU    Male              0      No        Yes      62          Yes   \n",
       "10  9763-GRSKD    Male              0     Yes        Yes      13          Yes   \n",
       "11  7469-LKBCI    Male              0      No         No      16          Yes   \n",
       "12  8091-TTVAX    Male              0     Yes         No      58          Yes   \n",
       "13  0280-XJGEX    Male              0      No         No      49          Yes   \n",
       "14  5129-JLPIS    Male              0      No         No      25          Yes   \n",
       "\n",
       "       MultipleLines InternetService       OnlineSecurity  ...  \\\n",
       "0   No phone service             DSL                   No  ...   \n",
       "1                 No             DSL                  Yes  ...   \n",
       "2                 No             DSL                  Yes  ...   \n",
       "3   No phone service             DSL                  Yes  ...   \n",
       "4                 No     Fiber optic                   No  ...   \n",
       "5                Yes     Fiber optic                   No  ...   \n",
       "6                Yes     Fiber optic                   No  ...   \n",
       "7   No phone service             DSL                  Yes  ...   \n",
       "8                Yes     Fiber optic                   No  ...   \n",
       "9                 No             DSL                  Yes  ...   \n",
       "10                No             DSL                  Yes  ...   \n",
       "11                No              No  No internet service  ...   \n",
       "12               Yes     Fiber optic                   No  ...   \n",
       "13               Yes     Fiber optic                   No  ...   \n",
       "14                No     Fiber optic                  Yes  ...   \n",
       "\n",
       "       DeviceProtection          TechSupport          StreamingTV  \\\n",
       "0                    No                   No                   No   \n",
       "1                   Yes                   No                   No   \n",
       "2                    No                   No                   No   \n",
       "3                   Yes                  Yes                   No   \n",
       "4                    No                   No                   No   \n",
       "5                   Yes                   No                  Yes   \n",
       "6                    No                   No                  Yes   \n",
       "7                    No                   No                   No   \n",
       "8                   Yes                  Yes                  Yes   \n",
       "9                    No                   No                   No   \n",
       "10                   No                   No                   No   \n",
       "11  No internet service  No internet service  No internet service   \n",
       "12                  Yes                   No                  Yes   \n",
       "13                  Yes                   No                  Yes   \n",
       "14                  Yes                  Yes                  Yes   \n",
       "\n",
       "        StreamingMovies        Contract PaperlessBilling  \\\n",
       "0                    No  Month-to-month              Yes   \n",
       "1                    No        One year               No   \n",
       "2                    No  Month-to-month              Yes   \n",
       "3                    No        One year               No   \n",
       "4                    No  Month-to-month              Yes   \n",
       "5                   Yes  Month-to-month              Yes   \n",
       "6                    No  Month-to-month              Yes   \n",
       "7                    No  Month-to-month               No   \n",
       "8                   Yes  Month-to-month              Yes   \n",
       "9                    No        One year               No   \n",
       "10                   No  Month-to-month              Yes   \n",
       "11  No internet service        Two year               No   \n",
       "12                  Yes        One year               No   \n",
       "13                  Yes  Month-to-month              Yes   \n",
       "14                  Yes  Month-to-month              Yes   \n",
       "\n",
       "                PaymentMethod MonthlyCharges  TotalCharges Churn  \n",
       "0            Electronic check          29.85         29.85    No  \n",
       "1                Mailed check          56.95        1889.5    No  \n",
       "2                Mailed check          53.85        108.15   Yes  \n",
       "3   Bank transfer (automatic)          42.30       1840.75    No  \n",
       "4            Electronic check          70.70        151.65   Yes  \n",
       "5            Electronic check          99.65         820.5   Yes  \n",
       "6     Credit card (automatic)          89.10        1949.4    No  \n",
       "7                Mailed check          29.75         301.9    No  \n",
       "8            Electronic check         104.80       3046.05   Yes  \n",
       "9   Bank transfer (automatic)          56.15       3487.95    No  \n",
       "10               Mailed check          49.95        587.45    No  \n",
       "11    Credit card (automatic)          18.95         326.8    No  \n",
       "12    Credit card (automatic)         100.35        5681.1    No  \n",
       "13  Bank transfer (automatic)         103.70        5036.3   Yes  \n",
       "14           Electronic check         105.50       2686.05    No  \n",
       "\n",
       "[15 rows x 21 columns]"
      ]
     },
     "execution_count": 204,
     "metadata": {},
     "output_type": "execute_result"
    }
   ],
   "source": [
    "# Load Data\n",
    "Verizon_data = 'Telco_Churn_Data.csv'\n",
    "\n",
    "df = pd.read_csv(Verizon_data)\n",
    "\n",
    "df.head(15)"
   ]
  },
  {
   "cell_type": "code",
   "execution_count": 205,
   "metadata": {},
   "outputs": [
    {
     "data": {
      "text/plain": [
       "Index(['customerID', 'gender', 'SeniorCitizen', 'Partner', 'Dependents',\n",
       "       'tenure', 'PhoneService', 'MultipleLines', 'InternetService',\n",
       "       'OnlineSecurity', 'OnlineBackup', 'DeviceProtection', 'TechSupport',\n",
       "       'StreamingTV', 'StreamingMovies', 'Contract', 'PaperlessBilling',\n",
       "       'PaymentMethod', 'MonthlyCharges', 'TotalCharges', 'Churn'],\n",
       "      dtype='object')"
      ]
     },
     "execution_count": 205,
     "metadata": {},
     "output_type": "execute_result"
    }
   ],
   "source": [
    "df.columns"
   ]
  },
  {
   "cell_type": "code",
   "execution_count": 206,
   "metadata": {},
   "outputs": [
    {
     "data": {
      "text/plain": [
       "customerID           object\n",
       "gender               object\n",
       "SeniorCitizen         int64\n",
       "Partner              object\n",
       "Dependents           object\n",
       "tenure                int64\n",
       "PhoneService         object\n",
       "MultipleLines        object\n",
       "InternetService      object\n",
       "OnlineSecurity       object\n",
       "OnlineBackup         object\n",
       "DeviceProtection     object\n",
       "TechSupport          object\n",
       "StreamingTV          object\n",
       "StreamingMovies      object\n",
       "Contract             object\n",
       "PaperlessBilling     object\n",
       "PaymentMethod        object\n",
       "MonthlyCharges      float64\n",
       "TotalCharges         object\n",
       "Churn                object\n",
       "dtype: object"
      ]
     },
     "execution_count": 206,
     "metadata": {},
     "output_type": "execute_result"
    }
   ],
   "source": [
    "df.dtypes"
   ]
  },
  {
   "cell_type": "code",
   "execution_count": 207,
   "metadata": {},
   "outputs": [
    {
     "data": {
      "text/html": [
       "<div>\n",
       "<style scoped>\n",
       "    .dataframe tbody tr th:only-of-type {\n",
       "        vertical-align: middle;\n",
       "    }\n",
       "\n",
       "    .dataframe tbody tr th {\n",
       "        vertical-align: top;\n",
       "    }\n",
       "\n",
       "    .dataframe thead th {\n",
       "        text-align: right;\n",
       "    }\n",
       "</style>\n",
       "<table border=\"1\" class=\"dataframe\">\n",
       "  <thead>\n",
       "    <tr style=\"text-align: right;\">\n",
       "      <th></th>\n",
       "      <th>customerID</th>\n",
       "      <th>gender</th>\n",
       "      <th>SeniorCitizen</th>\n",
       "      <th>Partner</th>\n",
       "      <th>Dependents</th>\n",
       "      <th>tenure</th>\n",
       "      <th>PhoneService</th>\n",
       "      <th>MultipleLines</th>\n",
       "      <th>InternetService</th>\n",
       "      <th>OnlineSecurity</th>\n",
       "      <th>...</th>\n",
       "      <th>DeviceProtection</th>\n",
       "      <th>TechSupport</th>\n",
       "      <th>StreamingTV</th>\n",
       "      <th>StreamingMovies</th>\n",
       "      <th>Contract</th>\n",
       "      <th>PaperlessBilling</th>\n",
       "      <th>PaymentMethod</th>\n",
       "      <th>MonthlyCharges</th>\n",
       "      <th>TotalCharges</th>\n",
       "      <th>Churn</th>\n",
       "    </tr>\n",
       "  </thead>\n",
       "  <tbody>\n",
       "    <tr>\n",
       "      <th>count</th>\n",
       "      <td>7043</td>\n",
       "      <td>7043</td>\n",
       "      <td>7043.000000</td>\n",
       "      <td>7043</td>\n",
       "      <td>7043</td>\n",
       "      <td>7043.000000</td>\n",
       "      <td>7042</td>\n",
       "      <td>7040</td>\n",
       "      <td>7042</td>\n",
       "      <td>7041</td>\n",
       "      <td>...</td>\n",
       "      <td>7041</td>\n",
       "      <td>7041</td>\n",
       "      <td>7040</td>\n",
       "      <td>7043</td>\n",
       "      <td>7041</td>\n",
       "      <td>7042</td>\n",
       "      <td>7041</td>\n",
       "      <td>7042.000000</td>\n",
       "      <td>7042</td>\n",
       "      <td>7042</td>\n",
       "    </tr>\n",
       "    <tr>\n",
       "      <th>unique</th>\n",
       "      <td>7043</td>\n",
       "      <td>2</td>\n",
       "      <td>NaN</td>\n",
       "      <td>2</td>\n",
       "      <td>2</td>\n",
       "      <td>NaN</td>\n",
       "      <td>2</td>\n",
       "      <td>3</td>\n",
       "      <td>3</td>\n",
       "      <td>3</td>\n",
       "      <td>...</td>\n",
       "      <td>3</td>\n",
       "      <td>3</td>\n",
       "      <td>3</td>\n",
       "      <td>3</td>\n",
       "      <td>4</td>\n",
       "      <td>2</td>\n",
       "      <td>4</td>\n",
       "      <td>NaN</td>\n",
       "      <td>6530</td>\n",
       "      <td>2</td>\n",
       "    </tr>\n",
       "    <tr>\n",
       "      <th>top</th>\n",
       "      <td>7590-VHVEG</td>\n",
       "      <td>Male</td>\n",
       "      <td>NaN</td>\n",
       "      <td>No</td>\n",
       "      <td>No</td>\n",
       "      <td>NaN</td>\n",
       "      <td>Yes</td>\n",
       "      <td>No</td>\n",
       "      <td>Fiber optic</td>\n",
       "      <td>No</td>\n",
       "      <td>...</td>\n",
       "      <td>No</td>\n",
       "      <td>No</td>\n",
       "      <td>No</td>\n",
       "      <td>No</td>\n",
       "      <td>Month-to-month</td>\n",
       "      <td>Yes</td>\n",
       "      <td>Electronic check</td>\n",
       "      <td>NaN</td>\n",
       "      <td></td>\n",
       "      <td>No</td>\n",
       "    </tr>\n",
       "    <tr>\n",
       "      <th>freq</th>\n",
       "      <td>1</td>\n",
       "      <td>3555</td>\n",
       "      <td>NaN</td>\n",
       "      <td>3641</td>\n",
       "      <td>4933</td>\n",
       "      <td>NaN</td>\n",
       "      <td>6360</td>\n",
       "      <td>3388</td>\n",
       "      <td>3095</td>\n",
       "      <td>3498</td>\n",
       "      <td>...</td>\n",
       "      <td>3094</td>\n",
       "      <td>3472</td>\n",
       "      <td>2808</td>\n",
       "      <td>2785</td>\n",
       "      <td>3870</td>\n",
       "      <td>4170</td>\n",
       "      <td>2364</td>\n",
       "      <td>NaN</td>\n",
       "      <td>11</td>\n",
       "      <td>5173</td>\n",
       "    </tr>\n",
       "    <tr>\n",
       "      <th>mean</th>\n",
       "      <td>NaN</td>\n",
       "      <td>NaN</td>\n",
       "      <td>0.162147</td>\n",
       "      <td>NaN</td>\n",
       "      <td>NaN</td>\n",
       "      <td>32.683516</td>\n",
       "      <td>NaN</td>\n",
       "      <td>NaN</td>\n",
       "      <td>NaN</td>\n",
       "      <td>NaN</td>\n",
       "      <td>...</td>\n",
       "      <td>NaN</td>\n",
       "      <td>NaN</td>\n",
       "      <td>NaN</td>\n",
       "      <td>NaN</td>\n",
       "      <td>NaN</td>\n",
       "      <td>NaN</td>\n",
       "      <td>NaN</td>\n",
       "      <td>64.756774</td>\n",
       "      <td>NaN</td>\n",
       "      <td>NaN</td>\n",
       "    </tr>\n",
       "    <tr>\n",
       "      <th>std</th>\n",
       "      <td>NaN</td>\n",
       "      <td>NaN</td>\n",
       "      <td>0.368612</td>\n",
       "      <td>NaN</td>\n",
       "      <td>NaN</td>\n",
       "      <td>28.998589</td>\n",
       "      <td>NaN</td>\n",
       "      <td>NaN</td>\n",
       "      <td>NaN</td>\n",
       "      <td>NaN</td>\n",
       "      <td>...</td>\n",
       "      <td>NaN</td>\n",
       "      <td>NaN</td>\n",
       "      <td>NaN</td>\n",
       "      <td>NaN</td>\n",
       "      <td>NaN</td>\n",
       "      <td>NaN</td>\n",
       "      <td>NaN</td>\n",
       "      <td>30.089352</td>\n",
       "      <td>NaN</td>\n",
       "      <td>NaN</td>\n",
       "    </tr>\n",
       "    <tr>\n",
       "      <th>min</th>\n",
       "      <td>NaN</td>\n",
       "      <td>NaN</td>\n",
       "      <td>0.000000</td>\n",
       "      <td>NaN</td>\n",
       "      <td>NaN</td>\n",
       "      <td>-50.000000</td>\n",
       "      <td>NaN</td>\n",
       "      <td>NaN</td>\n",
       "      <td>NaN</td>\n",
       "      <td>NaN</td>\n",
       "      <td>...</td>\n",
       "      <td>NaN</td>\n",
       "      <td>NaN</td>\n",
       "      <td>NaN</td>\n",
       "      <td>NaN</td>\n",
       "      <td>NaN</td>\n",
       "      <td>NaN</td>\n",
       "      <td>NaN</td>\n",
       "      <td>18.250000</td>\n",
       "      <td>NaN</td>\n",
       "      <td>NaN</td>\n",
       "    </tr>\n",
       "    <tr>\n",
       "      <th>25%</th>\n",
       "      <td>NaN</td>\n",
       "      <td>NaN</td>\n",
       "      <td>0.000000</td>\n",
       "      <td>NaN</td>\n",
       "      <td>NaN</td>\n",
       "      <td>9.000000</td>\n",
       "      <td>NaN</td>\n",
       "      <td>NaN</td>\n",
       "      <td>NaN</td>\n",
       "      <td>NaN</td>\n",
       "      <td>...</td>\n",
       "      <td>NaN</td>\n",
       "      <td>NaN</td>\n",
       "      <td>NaN</td>\n",
       "      <td>NaN</td>\n",
       "      <td>NaN</td>\n",
       "      <td>NaN</td>\n",
       "      <td>NaN</td>\n",
       "      <td>35.500000</td>\n",
       "      <td>NaN</td>\n",
       "      <td>NaN</td>\n",
       "    </tr>\n",
       "    <tr>\n",
       "      <th>50%</th>\n",
       "      <td>NaN</td>\n",
       "      <td>NaN</td>\n",
       "      <td>0.000000</td>\n",
       "      <td>NaN</td>\n",
       "      <td>NaN</td>\n",
       "      <td>29.000000</td>\n",
       "      <td>NaN</td>\n",
       "      <td>NaN</td>\n",
       "      <td>NaN</td>\n",
       "      <td>NaN</td>\n",
       "      <td>...</td>\n",
       "      <td>NaN</td>\n",
       "      <td>NaN</td>\n",
       "      <td>NaN</td>\n",
       "      <td>NaN</td>\n",
       "      <td>NaN</td>\n",
       "      <td>NaN</td>\n",
       "      <td>NaN</td>\n",
       "      <td>70.350000</td>\n",
       "      <td>NaN</td>\n",
       "      <td>NaN</td>\n",
       "    </tr>\n",
       "    <tr>\n",
       "      <th>75%</th>\n",
       "      <td>NaN</td>\n",
       "      <td>NaN</td>\n",
       "      <td>0.000000</td>\n",
       "      <td>NaN</td>\n",
       "      <td>NaN</td>\n",
       "      <td>55.000000</td>\n",
       "      <td>NaN</td>\n",
       "      <td>NaN</td>\n",
       "      <td>NaN</td>\n",
       "      <td>NaN</td>\n",
       "      <td>...</td>\n",
       "      <td>NaN</td>\n",
       "      <td>NaN</td>\n",
       "      <td>NaN</td>\n",
       "      <td>NaN</td>\n",
       "      <td>NaN</td>\n",
       "      <td>NaN</td>\n",
       "      <td>NaN</td>\n",
       "      <td>89.850000</td>\n",
       "      <td>NaN</td>\n",
       "      <td>NaN</td>\n",
       "    </tr>\n",
       "    <tr>\n",
       "      <th>max</th>\n",
       "      <td>NaN</td>\n",
       "      <td>NaN</td>\n",
       "      <td>1.000000</td>\n",
       "      <td>NaN</td>\n",
       "      <td>NaN</td>\n",
       "      <td>1000.000000</td>\n",
       "      <td>NaN</td>\n",
       "      <td>NaN</td>\n",
       "      <td>NaN</td>\n",
       "      <td>NaN</td>\n",
       "      <td>...</td>\n",
       "      <td>NaN</td>\n",
       "      <td>NaN</td>\n",
       "      <td>NaN</td>\n",
       "      <td>NaN</td>\n",
       "      <td>NaN</td>\n",
       "      <td>NaN</td>\n",
       "      <td>NaN</td>\n",
       "      <td>118.750000</td>\n",
       "      <td>NaN</td>\n",
       "      <td>NaN</td>\n",
       "    </tr>\n",
       "  </tbody>\n",
       "</table>\n",
       "<p>11 rows × 21 columns</p>\n",
       "</div>"
      ],
      "text/plain": [
       "        customerID gender  SeniorCitizen Partner Dependents       tenure  \\\n",
       "count         7043   7043    7043.000000    7043       7043  7043.000000   \n",
       "unique        7043      2            NaN       2          2          NaN   \n",
       "top     7590-VHVEG   Male            NaN      No         No          NaN   \n",
       "freq             1   3555            NaN    3641       4933          NaN   \n",
       "mean           NaN    NaN       0.162147     NaN        NaN    32.683516   \n",
       "std            NaN    NaN       0.368612     NaN        NaN    28.998589   \n",
       "min            NaN    NaN       0.000000     NaN        NaN   -50.000000   \n",
       "25%            NaN    NaN       0.000000     NaN        NaN     9.000000   \n",
       "50%            NaN    NaN       0.000000     NaN        NaN    29.000000   \n",
       "75%            NaN    NaN       0.000000     NaN        NaN    55.000000   \n",
       "max            NaN    NaN       1.000000     NaN        NaN  1000.000000   \n",
       "\n",
       "       PhoneService MultipleLines InternetService OnlineSecurity  ...  \\\n",
       "count          7042          7040            7042           7041  ...   \n",
       "unique            2             3               3              3  ...   \n",
       "top             Yes            No     Fiber optic             No  ...   \n",
       "freq           6360          3388            3095           3498  ...   \n",
       "mean            NaN           NaN             NaN            NaN  ...   \n",
       "std             NaN           NaN             NaN            NaN  ...   \n",
       "min             NaN           NaN             NaN            NaN  ...   \n",
       "25%             NaN           NaN             NaN            NaN  ...   \n",
       "50%             NaN           NaN             NaN            NaN  ...   \n",
       "75%             NaN           NaN             NaN            NaN  ...   \n",
       "max             NaN           NaN             NaN            NaN  ...   \n",
       "\n",
       "       DeviceProtection TechSupport StreamingTV StreamingMovies  \\\n",
       "count              7041        7041        7040            7043   \n",
       "unique                3           3           3               3   \n",
       "top                  No          No          No              No   \n",
       "freq               3094        3472        2808            2785   \n",
       "mean                NaN         NaN         NaN             NaN   \n",
       "std                 NaN         NaN         NaN             NaN   \n",
       "min                 NaN         NaN         NaN             NaN   \n",
       "25%                 NaN         NaN         NaN             NaN   \n",
       "50%                 NaN         NaN         NaN             NaN   \n",
       "75%                 NaN         NaN         NaN             NaN   \n",
       "max                 NaN         NaN         NaN             NaN   \n",
       "\n",
       "              Contract PaperlessBilling     PaymentMethod MonthlyCharges  \\\n",
       "count             7041             7042              7041    7042.000000   \n",
       "unique               4                2                 4            NaN   \n",
       "top     Month-to-month              Yes  Electronic check            NaN   \n",
       "freq              3870             4170              2364            NaN   \n",
       "mean               NaN              NaN               NaN      64.756774   \n",
       "std                NaN              NaN               NaN      30.089352   \n",
       "min                NaN              NaN               NaN      18.250000   \n",
       "25%                NaN              NaN               NaN      35.500000   \n",
       "50%                NaN              NaN               NaN      70.350000   \n",
       "75%                NaN              NaN               NaN      89.850000   \n",
       "max                NaN              NaN               NaN     118.750000   \n",
       "\n",
       "        TotalCharges Churn  \n",
       "count           7042  7042  \n",
       "unique          6530     2  \n",
       "top                     No  \n",
       "freq              11  5173  \n",
       "mean             NaN   NaN  \n",
       "std              NaN   NaN  \n",
       "min              NaN   NaN  \n",
       "25%              NaN   NaN  \n",
       "50%              NaN   NaN  \n",
       "75%              NaN   NaN  \n",
       "max              NaN   NaN  \n",
       "\n",
       "[11 rows x 21 columns]"
      ]
     },
     "execution_count": 207,
     "metadata": {},
     "output_type": "execute_result"
    }
   ],
   "source": [
    "# Get statistics for columns\n",
    "df.describe(include = 'all')"
   ]
  },
  {
   "cell_type": "code",
   "execution_count": 208,
   "metadata": {},
   "outputs": [
    {
     "data": {
      "text/plain": [
       "True"
      ]
     },
     "execution_count": 208,
     "metadata": {},
     "output_type": "execute_result"
    }
   ],
   "source": [
    "# Checking for null values\n",
    "df.isnull().values.any()"
   ]
  },
  {
   "cell_type": "code",
   "execution_count": 209,
   "metadata": {},
   "outputs": [
    {
     "data": {
      "text/plain": [
       "customerID          0\n",
       "gender              0\n",
       "SeniorCitizen       0\n",
       "Partner             0\n",
       "Dependents          0\n",
       "tenure              0\n",
       "PhoneService        1\n",
       "MultipleLines       3\n",
       "InternetService     1\n",
       "OnlineSecurity      2\n",
       "OnlineBackup        0\n",
       "DeviceProtection    2\n",
       "TechSupport         2\n",
       "StreamingTV         3\n",
       "StreamingMovies     0\n",
       "Contract            2\n",
       "PaperlessBilling    1\n",
       "PaymentMethod       2\n",
       "MonthlyCharges      1\n",
       "TotalCharges        1\n",
       "Churn               1\n",
       "dtype: int64"
      ]
     },
     "execution_count": 209,
     "metadata": {},
     "output_type": "execute_result"
    }
   ],
   "source": [
    "# Checking what columns are missing values\n",
    "nan_count = np.sum(df.isnull(), axis = 0)\n",
    "nan_count"
   ]
  },
  {
   "cell_type": "code",
   "execution_count": 210,
   "metadata": {},
   "outputs": [
    {
     "data": {
      "text/plain": [
       "Index([1375, 1397, 1401, 1411, 1417, 3995, 4666, 4668, 4670, 6239], dtype='int64')"
      ]
     },
     "execution_count": 210,
     "metadata": {},
     "output_type": "execute_result"
    }
   ],
   "source": [
    "# Finding indicies with missing row values\n",
    "bool_df = df.isnull()\n",
    "row_has_nan = bool_df.any (axis=1)\n",
    "rows_with_nan = df[row_has_nan].index\n",
    "rows_with_nan"
   ]
  },
  {
   "cell_type": "code",
   "execution_count": 211,
   "metadata": {},
   "outputs": [],
   "source": [
    "# Dropping those rows \n",
    "df = df.drop(df.index[rows_with_nan])"
   ]
  },
  {
   "cell_type": "code",
   "execution_count": 212,
   "metadata": {},
   "outputs": [
    {
     "data": {
      "text/plain": [
       "customerID          0\n",
       "gender              0\n",
       "SeniorCitizen       0\n",
       "Partner             0\n",
       "Dependents          0\n",
       "tenure              0\n",
       "PhoneService        0\n",
       "MultipleLines       0\n",
       "InternetService     0\n",
       "OnlineSecurity      0\n",
       "OnlineBackup        0\n",
       "DeviceProtection    0\n",
       "TechSupport         0\n",
       "StreamingTV         0\n",
       "StreamingMovies     0\n",
       "Contract            0\n",
       "PaperlessBilling    0\n",
       "PaymentMethod       0\n",
       "MonthlyCharges      0\n",
       "TotalCharges        0\n",
       "Churn               0\n",
       "dtype: int64"
      ]
     },
     "execution_count": 212,
     "metadata": {},
     "output_type": "execute_result"
    }
   ],
   "source": [
    "nan_count = np.sum(df.isnull(), axis = 0)\n",
    "nan_count"
   ]
  },
  {
   "cell_type": "code",
   "execution_count": 213,
   "metadata": {},
   "outputs": [
    {
     "data": {
      "text/plain": [
       "customerID          0\n",
       "gender              0\n",
       "SeniorCitizen       0\n",
       "Partner             0\n",
       "Dependents          0\n",
       "tenure              0\n",
       "PhoneService        0\n",
       "MultipleLines       0\n",
       "InternetService     0\n",
       "OnlineSecurity      0\n",
       "OnlineBackup        0\n",
       "DeviceProtection    0\n",
       "TechSupport         0\n",
       "StreamingTV         0\n",
       "StreamingMovies     0\n",
       "Contract            0\n",
       "PaperlessBilling    0\n",
       "PaymentMethod       0\n",
       "MonthlyCharges      0\n",
       "TotalCharges        0\n",
       "Churn               0\n",
       "dtype: int64"
      ]
     },
     "execution_count": 213,
     "metadata": {},
     "output_type": "execute_result"
    }
   ],
   "source": [
    "# Checking results of previous code\n",
    "nan_count = np.sum(df.isnull(), axis = 0)\n",
    "nan_count"
   ]
  },
  {
   "cell_type": "code",
   "execution_count": 214,
   "metadata": {},
   "outputs": [
    {
     "data": {
      "text/plain": [
       "(7033, 21)"
      ]
     },
     "execution_count": 214,
     "metadata": {},
     "output_type": "execute_result"
    }
   ],
   "source": [
    "# New shape!\n",
    "df.shape"
   ]
  },
  {
   "cell_type": "code",
   "execution_count": 215,
   "metadata": {},
   "outputs": [
    {
     "data": {
      "text/plain": [
       "(7033, 13601)"
      ]
     },
     "execution_count": 215,
     "metadata": {},
     "output_type": "execute_result"
    }
   ],
   "source": [
    "# Testing what one hot encoding each column will do...we get over 10,000 columns\n",
    "pd.get_dummies(df).shape"
   ]
  },
  {
   "cell_type": "code",
   "execution_count": 216,
   "metadata": {},
   "outputs": [
    {
     "data": {
      "text/html": [
       "<div>\n",
       "<style scoped>\n",
       "    .dataframe tbody tr th:only-of-type {\n",
       "        vertical-align: middle;\n",
       "    }\n",
       "\n",
       "    .dataframe tbody tr th {\n",
       "        vertical-align: top;\n",
       "    }\n",
       "\n",
       "    .dataframe thead th {\n",
       "        text-align: right;\n",
       "    }\n",
       "</style>\n",
       "<table border=\"1\" class=\"dataframe\">\n",
       "  <thead>\n",
       "    <tr style=\"text-align: right;\">\n",
       "      <th></th>\n",
       "      <th>customerID</th>\n",
       "      <th>gender</th>\n",
       "      <th>SeniorCitizen</th>\n",
       "      <th>Partner</th>\n",
       "      <th>Dependents</th>\n",
       "      <th>tenure</th>\n",
       "      <th>PhoneService</th>\n",
       "      <th>MultipleLines</th>\n",
       "      <th>InternetService</th>\n",
       "      <th>OnlineSecurity</th>\n",
       "      <th>...</th>\n",
       "      <th>DeviceProtection</th>\n",
       "      <th>TechSupport</th>\n",
       "      <th>StreamingTV</th>\n",
       "      <th>StreamingMovies</th>\n",
       "      <th>Contract</th>\n",
       "      <th>PaperlessBilling</th>\n",
       "      <th>AutomaticPayment</th>\n",
       "      <th>MonthlyCharges</th>\n",
       "      <th>TotalCharges</th>\n",
       "      <th>Churn</th>\n",
       "    </tr>\n",
       "  </thead>\n",
       "  <tbody>\n",
       "    <tr>\n",
       "      <th>0</th>\n",
       "      <td>7590-VHVEG</td>\n",
       "      <td>Female</td>\n",
       "      <td>0</td>\n",
       "      <td>Yes</td>\n",
       "      <td>No</td>\n",
       "      <td>1</td>\n",
       "      <td>No</td>\n",
       "      <td>No</td>\n",
       "      <td>Yes</td>\n",
       "      <td>No</td>\n",
       "      <td>...</td>\n",
       "      <td>No</td>\n",
       "      <td>No</td>\n",
       "      <td>No</td>\n",
       "      <td>No</td>\n",
       "      <td>Month-to-month</td>\n",
       "      <td>Yes</td>\n",
       "      <td>No</td>\n",
       "      <td>29.85</td>\n",
       "      <td>29.85</td>\n",
       "      <td>No</td>\n",
       "    </tr>\n",
       "    <tr>\n",
       "      <th>1</th>\n",
       "      <td>5575-GNVDE</td>\n",
       "      <td>Male</td>\n",
       "      <td>0</td>\n",
       "      <td>No</td>\n",
       "      <td>No</td>\n",
       "      <td>34</td>\n",
       "      <td>Yes</td>\n",
       "      <td>No</td>\n",
       "      <td>Yes</td>\n",
       "      <td>Yes</td>\n",
       "      <td>...</td>\n",
       "      <td>Yes</td>\n",
       "      <td>No</td>\n",
       "      <td>No</td>\n",
       "      <td>No</td>\n",
       "      <td>One year</td>\n",
       "      <td>No</td>\n",
       "      <td>No</td>\n",
       "      <td>56.95</td>\n",
       "      <td>1889.5</td>\n",
       "      <td>No</td>\n",
       "    </tr>\n",
       "    <tr>\n",
       "      <th>2</th>\n",
       "      <td>3668-QPYBK</td>\n",
       "      <td>Male</td>\n",
       "      <td>0</td>\n",
       "      <td>No</td>\n",
       "      <td>No</td>\n",
       "      <td>2</td>\n",
       "      <td>Yes</td>\n",
       "      <td>No</td>\n",
       "      <td>Yes</td>\n",
       "      <td>Yes</td>\n",
       "      <td>...</td>\n",
       "      <td>No</td>\n",
       "      <td>No</td>\n",
       "      <td>No</td>\n",
       "      <td>No</td>\n",
       "      <td>Month-to-month</td>\n",
       "      <td>Yes</td>\n",
       "      <td>No</td>\n",
       "      <td>53.85</td>\n",
       "      <td>108.15</td>\n",
       "      <td>Yes</td>\n",
       "    </tr>\n",
       "    <tr>\n",
       "      <th>3</th>\n",
       "      <td>7795-CFOCW</td>\n",
       "      <td>Male</td>\n",
       "      <td>0</td>\n",
       "      <td>No</td>\n",
       "      <td>No</td>\n",
       "      <td>45</td>\n",
       "      <td>No</td>\n",
       "      <td>No</td>\n",
       "      <td>Yes</td>\n",
       "      <td>Yes</td>\n",
       "      <td>...</td>\n",
       "      <td>Yes</td>\n",
       "      <td>Yes</td>\n",
       "      <td>No</td>\n",
       "      <td>No</td>\n",
       "      <td>One year</td>\n",
       "      <td>No</td>\n",
       "      <td>Yes</td>\n",
       "      <td>42.30</td>\n",
       "      <td>1840.75</td>\n",
       "      <td>No</td>\n",
       "    </tr>\n",
       "    <tr>\n",
       "      <th>4</th>\n",
       "      <td>9237-HQITU</td>\n",
       "      <td>Female</td>\n",
       "      <td>0</td>\n",
       "      <td>No</td>\n",
       "      <td>No</td>\n",
       "      <td>2</td>\n",
       "      <td>Yes</td>\n",
       "      <td>No</td>\n",
       "      <td>Yes</td>\n",
       "      <td>No</td>\n",
       "      <td>...</td>\n",
       "      <td>No</td>\n",
       "      <td>No</td>\n",
       "      <td>No</td>\n",
       "      <td>No</td>\n",
       "      <td>Month-to-month</td>\n",
       "      <td>Yes</td>\n",
       "      <td>No</td>\n",
       "      <td>70.70</td>\n",
       "      <td>151.65</td>\n",
       "      <td>Yes</td>\n",
       "    </tr>\n",
       "    <tr>\n",
       "      <th>...</th>\n",
       "      <td>...</td>\n",
       "      <td>...</td>\n",
       "      <td>...</td>\n",
       "      <td>...</td>\n",
       "      <td>...</td>\n",
       "      <td>...</td>\n",
       "      <td>...</td>\n",
       "      <td>...</td>\n",
       "      <td>...</td>\n",
       "      <td>...</td>\n",
       "      <td>...</td>\n",
       "      <td>...</td>\n",
       "      <td>...</td>\n",
       "      <td>...</td>\n",
       "      <td>...</td>\n",
       "      <td>...</td>\n",
       "      <td>...</td>\n",
       "      <td>...</td>\n",
       "      <td>...</td>\n",
       "      <td>...</td>\n",
       "      <td>...</td>\n",
       "    </tr>\n",
       "    <tr>\n",
       "      <th>7038</th>\n",
       "      <td>6840-RESVB</td>\n",
       "      <td>Male</td>\n",
       "      <td>0</td>\n",
       "      <td>Yes</td>\n",
       "      <td>Yes</td>\n",
       "      <td>24</td>\n",
       "      <td>Yes</td>\n",
       "      <td>Yes</td>\n",
       "      <td>Yes</td>\n",
       "      <td>Yes</td>\n",
       "      <td>...</td>\n",
       "      <td>Yes</td>\n",
       "      <td>Yes</td>\n",
       "      <td>Yes</td>\n",
       "      <td>Yes</td>\n",
       "      <td>One year</td>\n",
       "      <td>Yes</td>\n",
       "      <td>No</td>\n",
       "      <td>84.80</td>\n",
       "      <td>1990.5</td>\n",
       "      <td>No</td>\n",
       "    </tr>\n",
       "    <tr>\n",
       "      <th>7039</th>\n",
       "      <td>2234-XADUH</td>\n",
       "      <td>Female</td>\n",
       "      <td>0</td>\n",
       "      <td>Yes</td>\n",
       "      <td>Yes</td>\n",
       "      <td>72</td>\n",
       "      <td>Yes</td>\n",
       "      <td>Yes</td>\n",
       "      <td>Yes</td>\n",
       "      <td>No</td>\n",
       "      <td>...</td>\n",
       "      <td>Yes</td>\n",
       "      <td>No</td>\n",
       "      <td>Yes</td>\n",
       "      <td>Yes</td>\n",
       "      <td>One year</td>\n",
       "      <td>Yes</td>\n",
       "      <td>Yes</td>\n",
       "      <td>103.20</td>\n",
       "      <td>7362.9</td>\n",
       "      <td>No</td>\n",
       "    </tr>\n",
       "    <tr>\n",
       "      <th>7040</th>\n",
       "      <td>4801-JZAZL</td>\n",
       "      <td>Female</td>\n",
       "      <td>0</td>\n",
       "      <td>Yes</td>\n",
       "      <td>Yes</td>\n",
       "      <td>11</td>\n",
       "      <td>No</td>\n",
       "      <td>No</td>\n",
       "      <td>Yes</td>\n",
       "      <td>Yes</td>\n",
       "      <td>...</td>\n",
       "      <td>No</td>\n",
       "      <td>No</td>\n",
       "      <td>No</td>\n",
       "      <td>No</td>\n",
       "      <td>Month-to-month</td>\n",
       "      <td>Yes</td>\n",
       "      <td>No</td>\n",
       "      <td>29.60</td>\n",
       "      <td>346.45</td>\n",
       "      <td>No</td>\n",
       "    </tr>\n",
       "    <tr>\n",
       "      <th>7041</th>\n",
       "      <td>8361-LTMKD</td>\n",
       "      <td>Male</td>\n",
       "      <td>1</td>\n",
       "      <td>Yes</td>\n",
       "      <td>No</td>\n",
       "      <td>4</td>\n",
       "      <td>Yes</td>\n",
       "      <td>Yes</td>\n",
       "      <td>Yes</td>\n",
       "      <td>No</td>\n",
       "      <td>...</td>\n",
       "      <td>No</td>\n",
       "      <td>No</td>\n",
       "      <td>No</td>\n",
       "      <td>No</td>\n",
       "      <td>Month-to-month</td>\n",
       "      <td>Yes</td>\n",
       "      <td>No</td>\n",
       "      <td>74.40</td>\n",
       "      <td>306.6</td>\n",
       "      <td>Yes</td>\n",
       "    </tr>\n",
       "    <tr>\n",
       "      <th>7042</th>\n",
       "      <td>3186-AJIEK</td>\n",
       "      <td>Male</td>\n",
       "      <td>0</td>\n",
       "      <td>No</td>\n",
       "      <td>No</td>\n",
       "      <td>66</td>\n",
       "      <td>Yes</td>\n",
       "      <td>No</td>\n",
       "      <td>Yes</td>\n",
       "      <td>Yes</td>\n",
       "      <td>...</td>\n",
       "      <td>Yes</td>\n",
       "      <td>Yes</td>\n",
       "      <td>Yes</td>\n",
       "      <td>Yes</td>\n",
       "      <td>Two year</td>\n",
       "      <td>Yes</td>\n",
       "      <td>Yes</td>\n",
       "      <td>105.65</td>\n",
       "      <td>6844.5</td>\n",
       "      <td>No</td>\n",
       "    </tr>\n",
       "  </tbody>\n",
       "</table>\n",
       "<p>7033 rows × 21 columns</p>\n",
       "</div>"
      ],
      "text/plain": [
       "      customerID  gender  SeniorCitizen Partner Dependents  tenure  \\\n",
       "0     7590-VHVEG  Female              0     Yes         No       1   \n",
       "1     5575-GNVDE    Male              0      No         No      34   \n",
       "2     3668-QPYBK    Male              0      No         No       2   \n",
       "3     7795-CFOCW    Male              0      No         No      45   \n",
       "4     9237-HQITU  Female              0      No         No       2   \n",
       "...          ...     ...            ...     ...        ...     ...   \n",
       "7038  6840-RESVB    Male              0     Yes        Yes      24   \n",
       "7039  2234-XADUH  Female              0     Yes        Yes      72   \n",
       "7040  4801-JZAZL  Female              0     Yes        Yes      11   \n",
       "7041  8361-LTMKD    Male              1     Yes         No       4   \n",
       "7042  3186-AJIEK    Male              0      No         No      66   \n",
       "\n",
       "     PhoneService MultipleLines InternetService OnlineSecurity  ...  \\\n",
       "0              No            No             Yes             No  ...   \n",
       "1             Yes            No             Yes            Yes  ...   \n",
       "2             Yes            No             Yes            Yes  ...   \n",
       "3              No            No             Yes            Yes  ...   \n",
       "4             Yes            No             Yes             No  ...   \n",
       "...           ...           ...             ...            ...  ...   \n",
       "7038          Yes           Yes             Yes            Yes  ...   \n",
       "7039          Yes           Yes             Yes             No  ...   \n",
       "7040           No            No             Yes            Yes  ...   \n",
       "7041          Yes           Yes             Yes             No  ...   \n",
       "7042          Yes            No             Yes            Yes  ...   \n",
       "\n",
       "     DeviceProtection TechSupport StreamingTV StreamingMovies        Contract  \\\n",
       "0                  No          No          No              No  Month-to-month   \n",
       "1                 Yes          No          No              No        One year   \n",
       "2                  No          No          No              No  Month-to-month   \n",
       "3                 Yes         Yes          No              No        One year   \n",
       "4                  No          No          No              No  Month-to-month   \n",
       "...               ...         ...         ...             ...             ...   \n",
       "7038              Yes         Yes         Yes             Yes        One year   \n",
       "7039              Yes          No         Yes             Yes        One year   \n",
       "7040               No          No          No              No  Month-to-month   \n",
       "7041               No          No          No              No  Month-to-month   \n",
       "7042              Yes         Yes         Yes             Yes        Two year   \n",
       "\n",
       "     PaperlessBilling AutomaticPayment MonthlyCharges  TotalCharges Churn  \n",
       "0                 Yes               No          29.85         29.85    No  \n",
       "1                  No               No          56.95        1889.5    No  \n",
       "2                 Yes               No          53.85        108.15   Yes  \n",
       "3                  No              Yes          42.30       1840.75    No  \n",
       "4                 Yes               No          70.70        151.65   Yes  \n",
       "...               ...              ...            ...           ...   ...  \n",
       "7038              Yes               No          84.80        1990.5    No  \n",
       "7039              Yes              Yes         103.20        7362.9    No  \n",
       "7040              Yes               No          29.60        346.45    No  \n",
       "7041              Yes               No          74.40         306.6   Yes  \n",
       "7042              Yes              Yes         105.65        6844.5    No  \n",
       "\n",
       "[7033 rows x 21 columns]"
      ]
     },
     "execution_count": 216,
     "metadata": {},
     "output_type": "execute_result"
    }
   ],
   "source": [
    "# Convert column to either yes or no\n",
    "df['MultipleLines'] = df['MultipleLines'].replace({'No phone service': 'No'})\n",
    "df['OnlineSecurity'] = df['OnlineSecurity'].replace({'No internet service': 'No'})\n",
    "df['OnlineBackup'] = df['OnlineBackup'].replace({'No internet service': 'No'})\n",
    "df['DeviceProtection'] = df['DeviceProtection'].replace({'No internet service': 'No'})\n",
    "df['TechSupport'] = df['TechSupport'].replace({'No internet service': 'No'})\n",
    "df['StreamingTV'] = df['StreamingTV'].replace({'No internet service': 'No'})\n",
    "df['StreamingMovies'] = df['StreamingMovies'].replace({'No internet service': 'No'})\n",
    "df['InternetService'] = df['InternetService'].replace({'DSL': 'Yes', 'Fiber optic' : 'Yes'})\n",
    "df['PaymentMethod'] = df['PaymentMethod'].replace({'Bank transfer (automatic)': 'Yes', 'Credit card (automatic)' : 'Yes', 'Electronic check' : 'No', 'Mailed check' : 'No'})\n",
    "# Renaming Payment Method to Automatic Payment (1)\n",
    "df = df.rename(columns={'PaymentMethod': 'AutomaticPayment'})\n",
    "\n",
    "df"
   ]
  },
  {
   "cell_type": "code",
   "execution_count": 217,
   "metadata": {},
   "outputs": [
    {
     "data": {
      "text/html": [
       "<div>\n",
       "<style scoped>\n",
       "    .dataframe tbody tr th:only-of-type {\n",
       "        vertical-align: middle;\n",
       "    }\n",
       "\n",
       "    .dataframe tbody tr th {\n",
       "        vertical-align: top;\n",
       "    }\n",
       "\n",
       "    .dataframe thead th {\n",
       "        text-align: right;\n",
       "    }\n",
       "</style>\n",
       "<table border=\"1\" class=\"dataframe\">\n",
       "  <thead>\n",
       "    <tr style=\"text-align: right;\">\n",
       "      <th></th>\n",
       "      <th>customerID</th>\n",
       "      <th>gender</th>\n",
       "      <th>SeniorCitizen</th>\n",
       "      <th>Partner</th>\n",
       "      <th>Dependents</th>\n",
       "      <th>tenure</th>\n",
       "      <th>PhoneService</th>\n",
       "      <th>MultipleLines</th>\n",
       "      <th>InternetService</th>\n",
       "      <th>OnlineSecurity</th>\n",
       "      <th>...</th>\n",
       "      <th>DeviceProtection</th>\n",
       "      <th>TechSupport</th>\n",
       "      <th>StreamingTV</th>\n",
       "      <th>StreamingMovies</th>\n",
       "      <th>Contract</th>\n",
       "      <th>PaperlessBilling</th>\n",
       "      <th>AutomaticPayment</th>\n",
       "      <th>MonthlyCharges</th>\n",
       "      <th>TotalCharges</th>\n",
       "      <th>Churn</th>\n",
       "    </tr>\n",
       "  </thead>\n",
       "  <tbody>\n",
       "    <tr>\n",
       "      <th>0</th>\n",
       "      <td>7590-VHVEG</td>\n",
       "      <td>0</td>\n",
       "      <td>0</td>\n",
       "      <td>1</td>\n",
       "      <td>0</td>\n",
       "      <td>1</td>\n",
       "      <td>0</td>\n",
       "      <td>0</td>\n",
       "      <td>1</td>\n",
       "      <td>0</td>\n",
       "      <td>...</td>\n",
       "      <td>0</td>\n",
       "      <td>0</td>\n",
       "      <td>0</td>\n",
       "      <td>0</td>\n",
       "      <td>Month-to-month</td>\n",
       "      <td>1</td>\n",
       "      <td>0</td>\n",
       "      <td>29.85</td>\n",
       "      <td>29.85</td>\n",
       "      <td>0</td>\n",
       "    </tr>\n",
       "    <tr>\n",
       "      <th>1</th>\n",
       "      <td>5575-GNVDE</td>\n",
       "      <td>1</td>\n",
       "      <td>0</td>\n",
       "      <td>0</td>\n",
       "      <td>0</td>\n",
       "      <td>34</td>\n",
       "      <td>1</td>\n",
       "      <td>0</td>\n",
       "      <td>1</td>\n",
       "      <td>1</td>\n",
       "      <td>...</td>\n",
       "      <td>1</td>\n",
       "      <td>0</td>\n",
       "      <td>0</td>\n",
       "      <td>0</td>\n",
       "      <td>One year</td>\n",
       "      <td>0</td>\n",
       "      <td>0</td>\n",
       "      <td>56.95</td>\n",
       "      <td>1889.5</td>\n",
       "      <td>0</td>\n",
       "    </tr>\n",
       "    <tr>\n",
       "      <th>2</th>\n",
       "      <td>3668-QPYBK</td>\n",
       "      <td>1</td>\n",
       "      <td>0</td>\n",
       "      <td>0</td>\n",
       "      <td>0</td>\n",
       "      <td>2</td>\n",
       "      <td>1</td>\n",
       "      <td>0</td>\n",
       "      <td>1</td>\n",
       "      <td>1</td>\n",
       "      <td>...</td>\n",
       "      <td>0</td>\n",
       "      <td>0</td>\n",
       "      <td>0</td>\n",
       "      <td>0</td>\n",
       "      <td>Month-to-month</td>\n",
       "      <td>1</td>\n",
       "      <td>0</td>\n",
       "      <td>53.85</td>\n",
       "      <td>108.15</td>\n",
       "      <td>1</td>\n",
       "    </tr>\n",
       "    <tr>\n",
       "      <th>3</th>\n",
       "      <td>7795-CFOCW</td>\n",
       "      <td>1</td>\n",
       "      <td>0</td>\n",
       "      <td>0</td>\n",
       "      <td>0</td>\n",
       "      <td>45</td>\n",
       "      <td>0</td>\n",
       "      <td>0</td>\n",
       "      <td>1</td>\n",
       "      <td>1</td>\n",
       "      <td>...</td>\n",
       "      <td>1</td>\n",
       "      <td>1</td>\n",
       "      <td>0</td>\n",
       "      <td>0</td>\n",
       "      <td>One year</td>\n",
       "      <td>0</td>\n",
       "      <td>1</td>\n",
       "      <td>42.30</td>\n",
       "      <td>1840.75</td>\n",
       "      <td>0</td>\n",
       "    </tr>\n",
       "    <tr>\n",
       "      <th>4</th>\n",
       "      <td>9237-HQITU</td>\n",
       "      <td>0</td>\n",
       "      <td>0</td>\n",
       "      <td>0</td>\n",
       "      <td>0</td>\n",
       "      <td>2</td>\n",
       "      <td>1</td>\n",
       "      <td>0</td>\n",
       "      <td>1</td>\n",
       "      <td>0</td>\n",
       "      <td>...</td>\n",
       "      <td>0</td>\n",
       "      <td>0</td>\n",
       "      <td>0</td>\n",
       "      <td>0</td>\n",
       "      <td>Month-to-month</td>\n",
       "      <td>1</td>\n",
       "      <td>0</td>\n",
       "      <td>70.70</td>\n",
       "      <td>151.65</td>\n",
       "      <td>1</td>\n",
       "    </tr>\n",
       "    <tr>\n",
       "      <th>...</th>\n",
       "      <td>...</td>\n",
       "      <td>...</td>\n",
       "      <td>...</td>\n",
       "      <td>...</td>\n",
       "      <td>...</td>\n",
       "      <td>...</td>\n",
       "      <td>...</td>\n",
       "      <td>...</td>\n",
       "      <td>...</td>\n",
       "      <td>...</td>\n",
       "      <td>...</td>\n",
       "      <td>...</td>\n",
       "      <td>...</td>\n",
       "      <td>...</td>\n",
       "      <td>...</td>\n",
       "      <td>...</td>\n",
       "      <td>...</td>\n",
       "      <td>...</td>\n",
       "      <td>...</td>\n",
       "      <td>...</td>\n",
       "      <td>...</td>\n",
       "    </tr>\n",
       "    <tr>\n",
       "      <th>7038</th>\n",
       "      <td>6840-RESVB</td>\n",
       "      <td>1</td>\n",
       "      <td>0</td>\n",
       "      <td>1</td>\n",
       "      <td>1</td>\n",
       "      <td>24</td>\n",
       "      <td>1</td>\n",
       "      <td>1</td>\n",
       "      <td>1</td>\n",
       "      <td>1</td>\n",
       "      <td>...</td>\n",
       "      <td>1</td>\n",
       "      <td>1</td>\n",
       "      <td>1</td>\n",
       "      <td>1</td>\n",
       "      <td>One year</td>\n",
       "      <td>1</td>\n",
       "      <td>0</td>\n",
       "      <td>84.80</td>\n",
       "      <td>1990.5</td>\n",
       "      <td>0</td>\n",
       "    </tr>\n",
       "    <tr>\n",
       "      <th>7039</th>\n",
       "      <td>2234-XADUH</td>\n",
       "      <td>0</td>\n",
       "      <td>0</td>\n",
       "      <td>1</td>\n",
       "      <td>1</td>\n",
       "      <td>72</td>\n",
       "      <td>1</td>\n",
       "      <td>1</td>\n",
       "      <td>1</td>\n",
       "      <td>0</td>\n",
       "      <td>...</td>\n",
       "      <td>1</td>\n",
       "      <td>0</td>\n",
       "      <td>1</td>\n",
       "      <td>1</td>\n",
       "      <td>One year</td>\n",
       "      <td>1</td>\n",
       "      <td>1</td>\n",
       "      <td>103.20</td>\n",
       "      <td>7362.9</td>\n",
       "      <td>0</td>\n",
       "    </tr>\n",
       "    <tr>\n",
       "      <th>7040</th>\n",
       "      <td>4801-JZAZL</td>\n",
       "      <td>0</td>\n",
       "      <td>0</td>\n",
       "      <td>1</td>\n",
       "      <td>1</td>\n",
       "      <td>11</td>\n",
       "      <td>0</td>\n",
       "      <td>0</td>\n",
       "      <td>1</td>\n",
       "      <td>1</td>\n",
       "      <td>...</td>\n",
       "      <td>0</td>\n",
       "      <td>0</td>\n",
       "      <td>0</td>\n",
       "      <td>0</td>\n",
       "      <td>Month-to-month</td>\n",
       "      <td>1</td>\n",
       "      <td>0</td>\n",
       "      <td>29.60</td>\n",
       "      <td>346.45</td>\n",
       "      <td>0</td>\n",
       "    </tr>\n",
       "    <tr>\n",
       "      <th>7041</th>\n",
       "      <td>8361-LTMKD</td>\n",
       "      <td>1</td>\n",
       "      <td>1</td>\n",
       "      <td>1</td>\n",
       "      <td>0</td>\n",
       "      <td>4</td>\n",
       "      <td>1</td>\n",
       "      <td>1</td>\n",
       "      <td>1</td>\n",
       "      <td>0</td>\n",
       "      <td>...</td>\n",
       "      <td>0</td>\n",
       "      <td>0</td>\n",
       "      <td>0</td>\n",
       "      <td>0</td>\n",
       "      <td>Month-to-month</td>\n",
       "      <td>1</td>\n",
       "      <td>0</td>\n",
       "      <td>74.40</td>\n",
       "      <td>306.6</td>\n",
       "      <td>1</td>\n",
       "    </tr>\n",
       "    <tr>\n",
       "      <th>7042</th>\n",
       "      <td>3186-AJIEK</td>\n",
       "      <td>1</td>\n",
       "      <td>0</td>\n",
       "      <td>0</td>\n",
       "      <td>0</td>\n",
       "      <td>66</td>\n",
       "      <td>1</td>\n",
       "      <td>0</td>\n",
       "      <td>1</td>\n",
       "      <td>1</td>\n",
       "      <td>...</td>\n",
       "      <td>1</td>\n",
       "      <td>1</td>\n",
       "      <td>1</td>\n",
       "      <td>1</td>\n",
       "      <td>Two year</td>\n",
       "      <td>1</td>\n",
       "      <td>1</td>\n",
       "      <td>105.65</td>\n",
       "      <td>6844.5</td>\n",
       "      <td>0</td>\n",
       "    </tr>\n",
       "  </tbody>\n",
       "</table>\n",
       "<p>7033 rows × 21 columns</p>\n",
       "</div>"
      ],
      "text/plain": [
       "      customerID  gender  SeniorCitizen  Partner  Dependents  tenure  \\\n",
       "0     7590-VHVEG       0              0        1           0       1   \n",
       "1     5575-GNVDE       1              0        0           0      34   \n",
       "2     3668-QPYBK       1              0        0           0       2   \n",
       "3     7795-CFOCW       1              0        0           0      45   \n",
       "4     9237-HQITU       0              0        0           0       2   \n",
       "...          ...     ...            ...      ...         ...     ...   \n",
       "7038  6840-RESVB       1              0        1           1      24   \n",
       "7039  2234-XADUH       0              0        1           1      72   \n",
       "7040  4801-JZAZL       0              0        1           1      11   \n",
       "7041  8361-LTMKD       1              1        1           0       4   \n",
       "7042  3186-AJIEK       1              0        0           0      66   \n",
       "\n",
       "      PhoneService  MultipleLines  InternetService  OnlineSecurity  ...  \\\n",
       "0                0              0                1               0  ...   \n",
       "1                1              0                1               1  ...   \n",
       "2                1              0                1               1  ...   \n",
       "3                0              0                1               1  ...   \n",
       "4                1              0                1               0  ...   \n",
       "...            ...            ...              ...             ...  ...   \n",
       "7038             1              1                1               1  ...   \n",
       "7039             1              1                1               0  ...   \n",
       "7040             0              0                1               1  ...   \n",
       "7041             1              1                1               0  ...   \n",
       "7042             1              0                1               1  ...   \n",
       "\n",
       "      DeviceProtection  TechSupport  StreamingTV  StreamingMovies  \\\n",
       "0                    0            0            0                0   \n",
       "1                    1            0            0                0   \n",
       "2                    0            0            0                0   \n",
       "3                    1            1            0                0   \n",
       "4                    0            0            0                0   \n",
       "...                ...          ...          ...              ...   \n",
       "7038                 1            1            1                1   \n",
       "7039                 1            0            1                1   \n",
       "7040                 0            0            0                0   \n",
       "7041                 0            0            0                0   \n",
       "7042                 1            1            1                1   \n",
       "\n",
       "            Contract PaperlessBilling  AutomaticPayment  MonthlyCharges  \\\n",
       "0     Month-to-month                1                 0           29.85   \n",
       "1           One year                0                 0           56.95   \n",
       "2     Month-to-month                1                 0           53.85   \n",
       "3           One year                0                 1           42.30   \n",
       "4     Month-to-month                1                 0           70.70   \n",
       "...              ...              ...               ...             ...   \n",
       "7038        One year                1                 0           84.80   \n",
       "7039        One year                1                 1          103.20   \n",
       "7040  Month-to-month                1                 0           29.60   \n",
       "7041  Month-to-month                1                 0           74.40   \n",
       "7042        Two year                1                 1          105.65   \n",
       "\n",
       "      TotalCharges Churn  \n",
       "0            29.85     0  \n",
       "1           1889.5     0  \n",
       "2           108.15     1  \n",
       "3          1840.75     0  \n",
       "4           151.65     1  \n",
       "...            ...   ...  \n",
       "7038        1990.5     0  \n",
       "7039        7362.9     0  \n",
       "7040        346.45     0  \n",
       "7041         306.6     1  \n",
       "7042        6844.5     0  \n",
       "\n",
       "[7033 rows x 21 columns]"
      ]
     },
     "execution_count": 217,
     "metadata": {},
     "output_type": "execute_result"
    }
   ],
   "source": [
    "# Male 1 and Female 0\n",
    "df['gender'] = df['gender'].replace({'Male': 1, 'Female': 0})\n",
    "# Yes 1 and No 0 \n",
    "df['Partner'] = df['Partner'].replace({'Yes': 1, 'No': 0})\n",
    "df['Dependents'] = df['Dependents'].replace({'Yes': 1, 'No': 0})\n",
    "df['PhoneService'] = df['PhoneService'].replace({'Yes': 1, 'No': 0})\n",
    "df['MultipleLines'] = df['MultipleLines'].replace({'Yes': 1, 'No': 0})\n",
    "df['OnlineSecurity'] = df['OnlineSecurity'].replace({'Yes': 1, 'No': 0})\n",
    "df['OnlineBackup'] = df['OnlineBackup'].replace({'Yes': 1, 'No': 0})\n",
    "df['DeviceProtection'] = df['DeviceProtection'].replace({'Yes': 1, 'No': 0})\n",
    "df['TechSupport'] = df['TechSupport'].replace({'Yes': 1, 'No': 0})\n",
    "df['StreamingTV'] = df['StreamingTV'].replace({'Yes': 1, 'No': 0})\n",
    "df['StreamingMovies'] = df['StreamingMovies'].replace({'Yes': 1, 'No': 0})\n",
    "df['InternetService'] = df['InternetService'].replace({'Yes': 1, 'No': 0})\n",
    "df['PaperlessBilling'] = df['PaperlessBilling'].replace({'Yes': 1, 'No': 0})\n",
    "df['AutomaticPayment'] = df['AutomaticPayment'].replace({'Yes': 1, 'No': 0})\n",
    "df['Churn'] = df['Churn'].replace({'Yes': 1, 'No': 0})\n",
    "\n",
    "df"
   ]
  },
  {
   "cell_type": "code",
   "execution_count": 218,
   "metadata": {},
   "outputs": [
    {
     "data": {
      "text/plain": [
       "customerID           object\n",
       "gender                int64\n",
       "SeniorCitizen         int64\n",
       "Partner               int64\n",
       "Dependents            int64\n",
       "tenure                int64\n",
       "PhoneService          int64\n",
       "MultipleLines         int64\n",
       "InternetService       int64\n",
       "OnlineSecurity        int64\n",
       "OnlineBackup          int64\n",
       "DeviceProtection      int64\n",
       "TechSupport           int64\n",
       "StreamingTV           int64\n",
       "StreamingMovies       int64\n",
       "Contract             object\n",
       "PaperlessBilling      int64\n",
       "AutomaticPayment      int64\n",
       "MonthlyCharges      float64\n",
       "TotalCharges         object\n",
       "Churn                 int64\n",
       "dtype: object"
      ]
     },
     "execution_count": 218,
     "metadata": {},
     "output_type": "execute_result"
    }
   ],
   "source": [
    "# Checking how our data types look\n",
    "df.dtypes"
   ]
  },
  {
   "cell_type": "code",
   "execution_count": 219,
   "metadata": {},
   "outputs": [],
   "source": [
    "# CONTRACT"
   ]
  },
  {
   "cell_type": "code",
   "execution_count": 220,
   "metadata": {},
   "outputs": [
    {
     "name": "stdout",
     "output_type": "stream",
     "text": [
      "['Month-to-month' 'One year' 'Two year' '1'] Contract\n",
      "Month-to-month    3864\n",
      "Two year          1693\n",
      "One year          1472\n",
      "1                    4\n",
      "Name: count, dtype: int64\n"
     ]
    }
   ],
   "source": [
    "# Checking how many unique values in column (there are three important values)\n",
    "unique_values = df['Contract'].unique()\n",
    "value_counts = df['Contract'].value_counts()\n",
    "\n",
    "print(unique_values, value_counts)"
   ]
  },
  {
   "cell_type": "code",
   "execution_count": 221,
   "metadata": {},
   "outputs": [],
   "source": [
    "#Group 1 and \"One year\" together\n",
    "df['Contract'] = df['Contract'].replace({\"1\": \"One year\"})"
   ]
  },
  {
   "cell_type": "code",
   "execution_count": 222,
   "metadata": {},
   "outputs": [
    {
     "data": {
      "text/plain": [
       "(7033, 23)"
      ]
     },
     "execution_count": 222,
     "metadata": {},
     "output_type": "execute_result"
    }
   ],
   "source": [
    "# one hot encoding columns\n",
    "df = pd.get_dummies(df, columns=['Contract'])\n",
    "df.shape"
   ]
  },
  {
   "cell_type": "code",
   "execution_count": 223,
   "metadata": {},
   "outputs": [
    {
     "data": {
      "text/plain": [
       "customerID                  object\n",
       "gender                       int64\n",
       "SeniorCitizen                int64\n",
       "Partner                      int64\n",
       "Dependents                   int64\n",
       "tenure                       int64\n",
       "PhoneService                 int64\n",
       "MultipleLines                int64\n",
       "InternetService              int64\n",
       "OnlineSecurity               int64\n",
       "OnlineBackup                 int64\n",
       "DeviceProtection             int64\n",
       "TechSupport                  int64\n",
       "StreamingTV                  int64\n",
       "StreamingMovies              int64\n",
       "PaperlessBilling             int64\n",
       "AutomaticPayment             int64\n",
       "MonthlyCharges             float64\n",
       "TotalCharges                object\n",
       "Churn                        int64\n",
       "Contract_Month-to-month       bool\n",
       "Contract_One year             bool\n",
       "Contract_Two year             bool\n",
       "dtype: object"
      ]
     },
     "execution_count": 223,
     "metadata": {},
     "output_type": "execute_result"
    }
   ],
   "source": [
    "# Checking new dtypes!\n",
    "df.dtypes"
   ]
  },
  {
   "cell_type": "code",
   "execution_count": 224,
   "metadata": {},
   "outputs": [],
   "source": [
    "# TENURE"
   ]
  },
  {
   "cell_type": "code",
   "execution_count": 225,
   "metadata": {},
   "outputs": [
    {
     "name": "stdout",
     "output_type": "stream",
     "text": [
      "[   1   34    2   45    8   22   10   28   62   13   16   58   49   25\n",
      "   69   52   71   21   12   30   47   72   17   27    5   46   11   70\n",
      "   63   43   15   60   18   66    9    3   31   50   64   56    7   42\n",
      "   35   48   29   65   38   68   32   55   37   36   41    6    4   33\n",
      "   67   23   57   61   14   20   53   40   59   24   44   19   54   51\n",
      "   26    0   39 1000  300  -50  500  700] tenure\n",
      " 1       613\n",
      " 72      361\n",
      " 2       237\n",
      " 3       200\n",
      " 4       174\n",
      "        ... \n",
      " 1000      1\n",
      " 300       1\n",
      "-50        1\n",
      " 500       1\n",
      " 700       1\n",
      "Name: count, Length: 78, dtype: int64\n"
     ]
    }
   ],
   "source": [
    "# inspecting tenure \n",
    "unique_values = df['tenure'].unique()\n",
    "value_counts = df['tenure'].value_counts()\n",
    "\n",
    "print(unique_values, value_counts)"
   ]
  },
  {
   "cell_type": "code",
   "execution_count": 226,
   "metadata": {},
   "outputs": [
    {
     "name": "stdout",
     "output_type": "stream",
     "text": [
      "Maximum: 1000\n",
      "Minimum: -50\n",
      "Range: 1050\n",
      "Average: 32.69202331864069\n",
      "Standard Deviation: 29.00777847338151\n"
     ]
    }
   ],
   "source": [
    "# Statistics on Total Charges\n",
    "maximum_T = df['tenure'].max()\n",
    "minimum_T = df['tenure'].min()\n",
    "data_range_T = maximum_T - minimum_T\n",
    "average_T = df['tenure'].mean()\n",
    "std_deviation_T = df['tenure'].std()\n",
    "print(f\"Maximum: {maximum_T}\")\n",
    "print(f\"Minimum: {minimum_T}\")\n",
    "print(f\"Range: {data_range_T}\")\n",
    "print(f\"Average: {average_T}\")\n",
    "print(f\"Standard Deviation: {std_deviation_T}\")"
   ]
  },
  {
   "cell_type": "code",
   "execution_count": 227,
   "metadata": {},
   "outputs": [
    {
     "data": {
      "text/html": [
       "<div>\n",
       "<style scoped>\n",
       "    .dataframe tbody tr th:only-of-type {\n",
       "        vertical-align: middle;\n",
       "    }\n",
       "\n",
       "    .dataframe tbody tr th {\n",
       "        vertical-align: top;\n",
       "    }\n",
       "\n",
       "    .dataframe thead th {\n",
       "        text-align: right;\n",
       "    }\n",
       "</style>\n",
       "<table border=\"1\" class=\"dataframe\">\n",
       "  <thead>\n",
       "    <tr style=\"text-align: right;\">\n",
       "      <th></th>\n",
       "      <th>tenure</th>\n",
       "      <th>Contract_Month-to-month</th>\n",
       "    </tr>\n",
       "  </thead>\n",
       "  <tbody>\n",
       "    <tr>\n",
       "      <th>0</th>\n",
       "      <td>1</td>\n",
       "      <td>True</td>\n",
       "    </tr>\n",
       "    <tr>\n",
       "      <th>1</th>\n",
       "      <td>34</td>\n",
       "      <td>False</td>\n",
       "    </tr>\n",
       "    <tr>\n",
       "      <th>2</th>\n",
       "      <td>2</td>\n",
       "      <td>True</td>\n",
       "    </tr>\n",
       "    <tr>\n",
       "      <th>3</th>\n",
       "      <td>45</td>\n",
       "      <td>False</td>\n",
       "    </tr>\n",
       "    <tr>\n",
       "      <th>4</th>\n",
       "      <td>2</td>\n",
       "      <td>True</td>\n",
       "    </tr>\n",
       "    <tr>\n",
       "      <th>...</th>\n",
       "      <td>...</td>\n",
       "      <td>...</td>\n",
       "    </tr>\n",
       "    <tr>\n",
       "      <th>7038</th>\n",
       "      <td>24</td>\n",
       "      <td>False</td>\n",
       "    </tr>\n",
       "    <tr>\n",
       "      <th>7039</th>\n",
       "      <td>72</td>\n",
       "      <td>False</td>\n",
       "    </tr>\n",
       "    <tr>\n",
       "      <th>7040</th>\n",
       "      <td>11</td>\n",
       "      <td>True</td>\n",
       "    </tr>\n",
       "    <tr>\n",
       "      <th>7041</th>\n",
       "      <td>4</td>\n",
       "      <td>True</td>\n",
       "    </tr>\n",
       "    <tr>\n",
       "      <th>7042</th>\n",
       "      <td>66</td>\n",
       "      <td>False</td>\n",
       "    </tr>\n",
       "  </tbody>\n",
       "</table>\n",
       "<p>7033 rows × 2 columns</p>\n",
       "</div>"
      ],
      "text/plain": [
       "      tenure  Contract_Month-to-month\n",
       "0          1                     True\n",
       "1         34                    False\n",
       "2          2                     True\n",
       "3         45                    False\n",
       "4          2                     True\n",
       "...      ...                      ...\n",
       "7038      24                    False\n",
       "7039      72                    False\n",
       "7040      11                     True\n",
       "7041       4                     True\n",
       "7042      66                    False\n",
       "\n",
       "[7033 rows x 2 columns]"
      ]
     },
     "execution_count": 227,
     "metadata": {},
     "output_type": "execute_result"
    }
   ],
   "source": [
    "# Checking if the disparity in tenure is corrolated to monthly contracts \n",
    "comp_columns = df[['tenure', 'Contract_Month-to-month']]\n",
    "comp_columns"
   ]
  },
  {
   "cell_type": "code",
   "execution_count": 228,
   "metadata": {},
   "outputs": [
    {
     "data": {
      "text/html": [
       "<div>\n",
       "<style scoped>\n",
       "    .dataframe tbody tr th:only-of-type {\n",
       "        vertical-align: middle;\n",
       "    }\n",
       "\n",
       "    .dataframe tbody tr th {\n",
       "        vertical-align: top;\n",
       "    }\n",
       "\n",
       "    .dataframe thead th {\n",
       "        text-align: right;\n",
       "    }\n",
       "</style>\n",
       "<table border=\"1\" class=\"dataframe\">\n",
       "  <thead>\n",
       "    <tr style=\"text-align: right;\">\n",
       "      <th></th>\n",
       "      <th>customerID</th>\n",
       "      <th>gender</th>\n",
       "      <th>SeniorCitizen</th>\n",
       "      <th>Partner</th>\n",
       "      <th>Dependents</th>\n",
       "      <th>tenure</th>\n",
       "      <th>PhoneService</th>\n",
       "      <th>MultipleLines</th>\n",
       "      <th>InternetService</th>\n",
       "      <th>OnlineSecurity</th>\n",
       "      <th>...</th>\n",
       "      <th>StreamingTV</th>\n",
       "      <th>StreamingMovies</th>\n",
       "      <th>PaperlessBilling</th>\n",
       "      <th>AutomaticPayment</th>\n",
       "      <th>MonthlyCharges</th>\n",
       "      <th>TotalCharges</th>\n",
       "      <th>Churn</th>\n",
       "      <th>Contract_Month-to-month</th>\n",
       "      <th>Contract_One year</th>\n",
       "      <th>Contract_Two year</th>\n",
       "    </tr>\n",
       "  </thead>\n",
       "  <tbody>\n",
       "    <tr>\n",
       "      <th>1482</th>\n",
       "      <td>9290-SHCMB</td>\n",
       "      <td>0</td>\n",
       "      <td>1</td>\n",
       "      <td>0</td>\n",
       "      <td>0</td>\n",
       "      <td>1000</td>\n",
       "      <td>1</td>\n",
       "      <td>0</td>\n",
       "      <td>1</td>\n",
       "      <td>0</td>\n",
       "      <td>...</td>\n",
       "      <td>1</td>\n",
       "      <td>1</td>\n",
       "      <td>1</td>\n",
       "      <td>0</td>\n",
       "      <td>96.85</td>\n",
       "      <td>1235.55</td>\n",
       "      <td>0</td>\n",
       "      <td>True</td>\n",
       "      <td>False</td>\n",
       "      <td>False</td>\n",
       "    </tr>\n",
       "    <tr>\n",
       "      <th>1604</th>\n",
       "      <td>6265-SXWBU</td>\n",
       "      <td>1</td>\n",
       "      <td>0</td>\n",
       "      <td>1</td>\n",
       "      <td>1</td>\n",
       "      <td>300</td>\n",
       "      <td>1</td>\n",
       "      <td>1</td>\n",
       "      <td>1</td>\n",
       "      <td>0</td>\n",
       "      <td>...</td>\n",
       "      <td>1</td>\n",
       "      <td>0</td>\n",
       "      <td>0</td>\n",
       "      <td>1</td>\n",
       "      <td>95.75</td>\n",
       "      <td>6511.25</td>\n",
       "      <td>0</td>\n",
       "      <td>False</td>\n",
       "      <td>True</td>\n",
       "      <td>False</td>\n",
       "    </tr>\n",
       "    <tr>\n",
       "      <th>4612</th>\n",
       "      <td>6723-CEGQI</td>\n",
       "      <td>0</td>\n",
       "      <td>0</td>\n",
       "      <td>0</td>\n",
       "      <td>1</td>\n",
       "      <td>500</td>\n",
       "      <td>0</td>\n",
       "      <td>0</td>\n",
       "      <td>1</td>\n",
       "      <td>0</td>\n",
       "      <td>...</td>\n",
       "      <td>1</td>\n",
       "      <td>0</td>\n",
       "      <td>0</td>\n",
       "      <td>0</td>\n",
       "      <td>45.25</td>\n",
       "      <td>2933.95</td>\n",
       "      <td>0</td>\n",
       "      <td>False</td>\n",
       "      <td>False</td>\n",
       "      <td>True</td>\n",
       "    </tr>\n",
       "    <tr>\n",
       "      <th>5904</th>\n",
       "      <td>9402-CXWPL</td>\n",
       "      <td>0</td>\n",
       "      <td>0</td>\n",
       "      <td>0</td>\n",
       "      <td>0</td>\n",
       "      <td>700</td>\n",
       "      <td>1</td>\n",
       "      <td>1</td>\n",
       "      <td>1</td>\n",
       "      <td>0</td>\n",
       "      <td>...</td>\n",
       "      <td>1</td>\n",
       "      <td>1</td>\n",
       "      <td>0</td>\n",
       "      <td>0</td>\n",
       "      <td>98.90</td>\n",
       "      <td>6838.6</td>\n",
       "      <td>0</td>\n",
       "      <td>False</td>\n",
       "      <td>True</td>\n",
       "      <td>False</td>\n",
       "    </tr>\n",
       "  </tbody>\n",
       "</table>\n",
       "<p>4 rows × 23 columns</p>\n",
       "</div>"
      ],
      "text/plain": [
       "      customerID  gender  SeniorCitizen  Partner  Dependents  tenure  \\\n",
       "1482  9290-SHCMB       0              1        0           0    1000   \n",
       "1604  6265-SXWBU       1              0        1           1     300   \n",
       "4612  6723-CEGQI       0              0        0           1     500   \n",
       "5904  9402-CXWPL       0              0        0           0     700   \n",
       "\n",
       "      PhoneService  MultipleLines  InternetService  OnlineSecurity  ...  \\\n",
       "1482             1              0                1               0  ...   \n",
       "1604             1              1                1               0  ...   \n",
       "4612             0              0                1               0  ...   \n",
       "5904             1              1                1               0  ...   \n",
       "\n",
       "      StreamingTV  StreamingMovies  PaperlessBilling  AutomaticPayment  \\\n",
       "1482            1                1                 1                 0   \n",
       "1604            1                0                 0                 1   \n",
       "4612            1                0                 0                 0   \n",
       "5904            1                1                 0                 0   \n",
       "\n",
       "      MonthlyCharges  TotalCharges  Churn  Contract_Month-to-month  \\\n",
       "1482           96.85       1235.55      0                     True   \n",
       "1604           95.75       6511.25      0                    False   \n",
       "4612           45.25       2933.95      0                    False   \n",
       "5904           98.90        6838.6      0                    False   \n",
       "\n",
       "     Contract_One year  Contract_Two year  \n",
       "1482             False              False  \n",
       "1604              True              False  \n",
       "4612             False               True  \n",
       "5904              True              False  \n",
       "\n",
       "[4 rows x 23 columns]"
      ]
     },
     "execution_count": 228,
     "metadata": {},
     "output_type": "execute_result"
    }
   ],
   "source": [
    "# Checking how many columns are higher than 120\n",
    "threshold = 120\n",
    "selected_rows = df[df['tenure'] > threshold]\n",
    "selected_rows"
   ]
  },
  {
   "cell_type": "code",
   "execution_count": 229,
   "metadata": {},
   "outputs": [
    {
     "name": "stdout",
     "output_type": "stream",
     "text": [
      "Original DataFrame:\n",
      "0        1\n",
      "1       34\n",
      "2        2\n",
      "3       45\n",
      "4        2\n",
      "        ..\n",
      "7038    24\n",
      "7039    72\n",
      "7040    11\n",
      "7041     4\n",
      "7042    66\n",
      "Name: tenure, Length: 7033, dtype: int64\n",
      "\n",
      "Scaled DataFrame:\n",
      "0       17.245714\n",
      "1       20.640000\n",
      "2       17.348571\n",
      "3       21.771429\n",
      "4       17.348571\n",
      "          ...    \n",
      "7038    19.611429\n",
      "7039    24.548571\n",
      "7040    18.274286\n",
      "7041    17.554286\n",
      "7042    23.931429\n",
      "Name: scaledtenure, Length: 7033, dtype: float64\n"
     ]
    }
   ],
   "source": [
    "# scaling tenure between 12 and 140\n",
    "tenure_min = 12\n",
    "tenure_max = 120\n",
    "scaler = MinMaxScaler(feature_range=(tenure_min, tenure_max))\n",
    "\n",
    "df['scaledtenure'] = scaler.fit_transform(df[['tenure']])\n",
    "\n",
    "print(\"Original DataFrame:\")\n",
    "print(df['tenure'])\n",
    "\n",
    "print(\"\\nScaled DataFrame:\")\n",
    "print(df['scaledtenure'])"
   ]
  },
  {
   "cell_type": "code",
   "execution_count": 230,
   "metadata": {},
   "outputs": [
    {
     "name": "stdout",
     "output_type": "stream",
     "text": [
      "Maximum: 120.0\n",
      "Minimum: 12.0\n",
      "Range: 108.0\n",
      "Average: 20.505465255631616\n",
      "Standard Deviation: 2.983657214404955\n"
     ]
    }
   ],
   "source": [
    "# Statistics on scaled tenure\n",
    "maximum_ST = df['scaledtenure'].max()\n",
    "minimum_ST = df['scaledtenure'].min()\n",
    "data_range_ST = maximum_ST - minimum_ST\n",
    "average_ST = df['scaledtenure'].mean()\n",
    "std_deviation_ST = df['scaledtenure'].std()\n",
    "print(f\"Maximum: {maximum_ST}\")\n",
    "print(f\"Minimum: {minimum_ST}\")\n",
    "print(f\"Range: {data_range_ST}\")\n",
    "print(f\"Average: {average_ST}\")\n",
    "print(f\"Standard Deviation: {std_deviation_ST}\")"
   ]
  },
  {
   "cell_type": "code",
   "execution_count": 231,
   "metadata": {},
   "outputs": [
    {
     "name": "stdout",
     "output_type": "stream",
     "text": [
      "[ 17.24571429  20.64        17.34857143  21.77142857  17.96571429\n",
      "  19.40571429  18.17142857  20.02285714  23.52        18.48\n",
      "  18.78857143  23.10857143  22.18285714  19.71428571  24.24\n",
      "  22.49142857  24.44571429  19.30285714  18.37714286  20.22857143\n",
      "  21.97714286  24.54857143  18.89142857  19.92        17.65714286\n",
      "  21.87428571  18.27428571  24.34285714  23.62285714  21.56571429\n",
      "  18.68571429  23.31428571  18.99428571  23.93142857  18.06857143\n",
      "  17.45142857  20.33142857  22.28571429  23.72571429  22.90285714\n",
      "  17.86285714  21.46285714  20.74285714  22.08        20.12571429\n",
      "  23.82857143  21.05142857  24.13714286  20.43428571  22.8\n",
      "  20.94857143  20.84571429  21.36        17.76        17.55428571\n",
      "  20.53714286  24.03428571  19.50857143  23.00571429  23.41714286\n",
      "  18.58285714  19.2         22.59428571  21.25714286  23.21142857\n",
      "  19.61142857  21.66857143  19.09714286  22.69714286  22.38857143\n",
      "  19.81714286  17.14285714  21.15428571 120.          48.\n",
      "  12.          68.57142857  89.14285714] scaledtenure\n",
      "17.245714     613\n",
      "24.548571     361\n",
      "17.348571     237\n",
      "17.451429     200\n",
      "17.554286     174\n",
      "             ... \n",
      "120.000000      1\n",
      "48.000000       1\n",
      "12.000000       1\n",
      "68.571429       1\n",
      "89.142857       1\n",
      "Name: count, Length: 78, dtype: int64\n"
     ]
    }
   ],
   "source": [
    "# inspecting scaled tenure as an integer (numbers are very low and lots of disparity) \n",
    "unique_values = df['scaledtenure'].unique()\n",
    "value_counts = df['scaledtenure'].value_counts()\n",
    "\n",
    "print(unique_values, value_counts)"
   ]
  },
  {
   "cell_type": "code",
   "execution_count": 232,
   "metadata": {},
   "outputs": [],
   "source": [
    "# Converting scaled tenure to integer\n",
    "# df['scaledtenure'] = df['scaledtenure'].astype(int)"
   ]
  },
  {
   "cell_type": "code",
   "execution_count": 233,
   "metadata": {},
   "outputs": [],
   "source": [
    "# MONTHLY CHARGES"
   ]
  },
  {
   "cell_type": "code",
   "execution_count": 234,
   "metadata": {},
   "outputs": [
    {
     "name": "stdout",
     "output_type": "stream",
     "text": [
      "[29.85 56.95 53.85 ... 63.1  44.2  78.7 ] MonthlyCharges\n",
      "20.05     61\n",
      "19.90     44\n",
      "19.95     44\n",
      "19.85     44\n",
      "19.70     43\n",
      "          ..\n",
      "23.65      1\n",
      "114.70     1\n",
      "87.80      1\n",
      "43.65      1\n",
      "78.70      1\n",
      "Name: count, Length: 1585, dtype: int64\n"
     ]
    }
   ],
   "source": [
    "# Inspecting monthly charges\n",
    "unique_values = df['MonthlyCharges'].unique()\n",
    "value_counts = df['MonthlyCharges'].value_counts()\n",
    "\n",
    "print(unique_values, value_counts)"
   ]
  },
  {
   "cell_type": "code",
   "execution_count": 235,
   "metadata": {},
   "outputs": [
    {
     "name": "stdout",
     "output_type": "stream",
     "text": [
      "[0 1] Churn\n",
      "0    5166\n",
      "1    1867\n",
      "Name: count, dtype: int64\n"
     ]
    }
   ],
   "source": [
    "# Inspecting monthly charges\n",
    "unique_values = df['Churn'].unique()\n",
    "value_counts = df['Churn'].value_counts()\n",
    "\n",
    "print(unique_values, value_counts)"
   ]
  },
  {
   "cell_type": "code",
   "execution_count": 236,
   "metadata": {},
   "outputs": [
    {
     "name": "stdout",
     "output_type": "stream",
     "text": [
      "Maximum: 118.75\n",
      "Minimum: 18.25\n",
      "Range: 100.5\n",
      "Average: 64.76227072373098\n",
      "Standard Deviation: 30.089196044052716\n"
     ]
    }
   ],
   "source": [
    "# Statistics on Monthly Charges\n",
    "maximum_MC = df['MonthlyCharges'].max()\n",
    "minimum_MC = df['MonthlyCharges'].min()\n",
    "data_range_MC = maximum_MC - minimum_MC\n",
    "average_MC = df['MonthlyCharges'].mean()\n",
    "std_deviation_MC = df['MonthlyCharges'].std()\n",
    "print(f\"Maximum: {maximum_MC}\")\n",
    "print(f\"Minimum: {minimum_MC}\")\n",
    "print(f\"Range: {data_range_MC}\")\n",
    "print(f\"Average: {average_MC}\")\n",
    "print(f\"Standard Deviation: {std_deviation_MC}\")"
   ]
  },
  {
   "cell_type": "code",
   "execution_count": 237,
   "metadata": {},
   "outputs": [],
   "source": [
    "# These statistics look alright! Once we start modeling we may have to penalize some of the higher values\n",
    "# using regularization techniques!"
   ]
  },
  {
   "cell_type": "code",
   "execution_count": 238,
   "metadata": {},
   "outputs": [
    {
     "data": {
      "image/png": "[encoded data removed]",
      "text/plain": [
       "<Figure size 1000x500 with 2 Axes>"
      ]
     },
     "metadata": {},
     "output_type": "display_data"
    },
    {
     "name": "stdout",
     "output_type": "stream",
     "text": [
      "Original Monthly Charges Data Summary Statistics:\n",
      " count    7033.000000\n",
      "mean       64.762271\n",
      "std        30.089196\n",
      "min        18.250000\n",
      "25%        35.500000\n",
      "50%        70.350000\n",
      "75%        89.850000\n",
      "max       118.750000\n",
      "Name: MonthlyCharges, dtype: float64\n",
      "\n",
      "Winsorized Monthly Charges Data Summary Statistics:\n",
      " count    7033.000000\n",
      "mean       62.766583\n",
      "std        19.291490\n",
      "min        35.500000\n",
      "25%        35.500000\n",
      "50%        70.350000\n",
      "75%        81.440000\n",
      "max        81.440000\n",
      "Name: winsorized_MonthlyCharges, dtype: float64\n"
     ]
    }
   ],
   "source": [
    "# Winzorizing Monthly Charges between 18 (Lowest value) and 65 (Closer to the average)\n",
    "# This may not be necessary\n",
    "lower_percentile = 25\n",
    "upper_percentile = 65\n",
    "\n",
    "# Calculating the threshold values\n",
    "lower_threshold = np.percentile(df['MonthlyCharges'], lower_percentile)\n",
    "upper_threshold = np.percentile(df['MonthlyCharges'], upper_percentile)\n",
    "\n",
    "# Winsorizing the data\n",
    "df['winsorized_MonthlyCharges'] = np.clip(df['MonthlyCharges'], lower_threshold, upper_threshold)\n",
    "\n",
    "# Comparing summary statistics\n",
    "original_stats_MC = df['MonthlyCharges'].describe()\n",
    "winsorized_stats_MC = df['winsorized_MonthlyCharges'].describe()\n",
    "\n",
    "# Creating box plots\n",
    "plt.figure(figsize=(10, 5))\n",
    "plt.subplot(1, 2, 1)\n",
    "plt.boxplot(df['MonthlyCharges'])\n",
    "plt.title('Original MonthlyCharges Data')\n",
    "plt.subplot(1, 2, 2)\n",
    "plt.boxplot(df['winsorized_MonthlyCharges'])\n",
    "plt.title('Winsorized MonthlyCharges Data')\n",
    "plt.show()\n",
    "\n",
    "print(\"Original Monthly Charges Data Summary Statistics:\\n\", original_stats_MC)\n",
    "print(\"\\nWinsorized Monthly Charges Data Summary Statistics:\\n\", winsorized_stats_MC)"
   ]
  },
  {
   "cell_type": "code",
   "execution_count": 239,
   "metadata": {},
   "outputs": [
    {
     "name": "stdout",
     "output_type": "stream",
     "text": [
      "<built-in method __array__ of numpy.ndarray object at 0x13ff0ff90> TotalCharges\n",
      "20.2      11\n",
      "          11\n",
      "19.75      9\n",
      "19.9       8\n",
      "20.05      8\n",
      "          ..\n",
      "2117.2     1\n",
      "203.95     1\n",
      "6849.4     1\n",
      "692.35     1\n",
      "6844.5     1\n",
      "Name: count, Length: 6521, dtype: int64\n"
     ]
    }
   ],
   "source": [
    "# Inspecting problem with Total charges\n",
    "unique_values = df['TotalCharges'].unique().__array__\n",
    "value_counts = df['TotalCharges'].value_counts()\n",
    "\n",
    "print(unique_values, value_counts)"
   ]
  },
  {
   "cell_type": "code",
   "execution_count": 240,
   "metadata": {},
   "outputs": [
    {
     "name": "stdout",
     "output_type": "stream",
     "text": [
      "Maximum: 999.9\n",
      "Minimum:  \n"
     ]
    }
   ],
   "source": [
    "# Statistics on Total Charges (Had to comment out some of the code because of errors)\n",
    "maximum_TC = df['TotalCharges'].max()\n",
    "minimum_TC = df['TotalCharges'].min()\n",
    "# data_range_TC = maximum_TC - minimum_TC\n",
    "# average_TC = df['TotalCharges'].mean()\n",
    "# std_deviation_TC = df['TotalCharges'].std()\n",
    "print(f\"Maximum: {maximum_TC}\")\n",
    "print(f\"Minimum: {minimum_TC}\")\n",
    "#print(f\"Range: {data_range_TC}\")\n",
    "#print(f\"Average: {average_TC}\")\n",
    "#print(f\"Standard Deviation: {std_deviation_TC}\")"
   ]
  },
  {
   "cell_type": "code",
   "execution_count": 241,
   "metadata": {},
   "outputs": [
    {
     "data": {
      "text/plain": [
       "' '"
      ]
     },
     "execution_count": 241,
     "metadata": {},
     "output_type": "execute_result"
    }
   ],
   "source": [
    "# Identifying null or \" \" values in Total charges\n",
    "df['TotalCharges'].isna().sum()\n",
    "min_price = df['TotalCharges'].min()\n",
    "min_price"
   ]
  },
  {
   "cell_type": "code",
   "execution_count": 242,
   "metadata": {},
   "outputs": [
    {
     "data": {
      "text/plain": [
       "count    7022.000000\n",
       "mean     2284.121981\n",
       "std      2266.972770\n",
       "min        18.800000\n",
       "25%       401.350000\n",
       "50%      1397.950000\n",
       "75%      3799.837500\n",
       "max      8684.800000\n",
       "Name: TotalCharges, dtype: float64"
      ]
     },
     "execution_count": 242,
     "metadata": {},
     "output_type": "execute_result"
    }
   ],
   "source": [
    "# Total charges has dtype object so by converting the rows with non-numeric values to NAN we can drop only the necessary rows\n",
    "df['TotalCharges'] = pd.to_numeric(df['TotalCharges'], errors='coerce')\n",
    "# Dropping all the new NAN values\n",
    "df.dropna(subset=['TotalCharges'], inplace=True)\n",
    "# Inpsecting the new TotalCharges column with a float value\n",
    "df['TotalCharges'].describe()"
   ]
  },
  {
   "cell_type": "code",
   "execution_count": 243,
   "metadata": {},
   "outputs": [
    {
     "name": "stdout",
     "output_type": "stream",
     "text": [
      "Maximum: 8684.8\n",
      "Minimum: 18.8\n",
      "Range: 8666.0\n",
      "Average: 2284.1219809171175\n",
      "Standard Deviation: 2266.972769888514\n"
     ]
    }
   ],
   "source": [
    "# Statistics on Total Charges\n",
    "maximum_TC = df['TotalCharges'].max()\n",
    "minimum_TC = df['TotalCharges'].min()\n",
    "data_range_TC = maximum_TC - minimum_TC\n",
    "average_TC = df['TotalCharges'].mean()\n",
    "std_deviation_TC = df['TotalCharges'].std()\n",
    "print(f\"Maximum: {maximum_TC}\")\n",
    "print(f\"Minimum: {minimum_TC}\")\n",
    "print(f\"Range: {data_range_TC}\")\n",
    "print(f\"Average: {average_TC}\")\n",
    "print(f\"Standard Deviation: {std_deviation_TC}\")"
   ]
  },
  {
   "cell_type": "code",
   "execution_count": 244,
   "metadata": {},
   "outputs": [
    {
     "data": {
      "text/plain": [
       "Index(['customerID', 'gender', 'SeniorCitizen', 'Partner', 'Dependents',\n",
       "       'tenure', 'PhoneService', 'MultipleLines', 'InternetService',\n",
       "       'OnlineSecurity', 'OnlineBackup', 'DeviceProtection', 'TechSupport',\n",
       "       'StreamingTV', 'StreamingMovies', 'PaperlessBilling',\n",
       "       'AutomaticPayment', 'MonthlyCharges', 'TotalCharges', 'Churn',\n",
       "       'Contract_Month-to-month', 'Contract_One year', 'Contract_Two year',\n",
       "       'scaledtenure', 'winsorized_MonthlyCharges'],\n",
       "      dtype='object')"
      ]
     },
     "execution_count": 244,
     "metadata": {},
     "output_type": "execute_result"
    }
   ],
   "source": [
    "df.columns"
   ]
  },
  {
   "cell_type": "code",
   "execution_count": 245,
   "metadata": {},
   "outputs": [
    {
     "data": {
      "text/html": [
       "<div>\n",
       "<style scoped>\n",
       "    .dataframe tbody tr th:only-of-type {\n",
       "        vertical-align: middle;\n",
       "    }\n",
       "\n",
       "    .dataframe tbody tr th {\n",
       "        vertical-align: top;\n",
       "    }\n",
       "\n",
       "    .dataframe thead th {\n",
       "        text-align: right;\n",
       "    }\n",
       "</style>\n",
       "<table border=\"1\" class=\"dataframe\">\n",
       "  <thead>\n",
       "    <tr style=\"text-align: right;\">\n",
       "      <th></th>\n",
       "      <th>MonthlyCharges</th>\n",
       "      <th>winsorized_MonthlyCharges</th>\n",
       "      <th>TotalCharges</th>\n",
       "    </tr>\n",
       "  </thead>\n",
       "  <tbody>\n",
       "    <tr>\n",
       "      <th>count</th>\n",
       "      <td>7022.000000</td>\n",
       "      <td>7022.000000</td>\n",
       "      <td>7022.000000</td>\n",
       "    </tr>\n",
       "    <tr>\n",
       "      <th>mean</th>\n",
       "      <td>64.798839</td>\n",
       "      <td>62.788334</td>\n",
       "      <td>2284.121981</td>\n",
       "    </tr>\n",
       "    <tr>\n",
       "      <th>std</th>\n",
       "      <td>30.085115</td>\n",
       "      <td>19.287947</td>\n",
       "      <td>2266.972770</td>\n",
       "    </tr>\n",
       "    <tr>\n",
       "      <th>min</th>\n",
       "      <td>18.250000</td>\n",
       "      <td>35.500000</td>\n",
       "      <td>18.800000</td>\n",
       "    </tr>\n",
       "    <tr>\n",
       "      <th>25%</th>\n",
       "      <td>35.612500</td>\n",
       "      <td>35.612500</td>\n",
       "      <td>401.350000</td>\n",
       "    </tr>\n",
       "    <tr>\n",
       "      <th>50%</th>\n",
       "      <td>70.350000</td>\n",
       "      <td>70.350000</td>\n",
       "      <td>1397.950000</td>\n",
       "    </tr>\n",
       "    <tr>\n",
       "      <th>75%</th>\n",
       "      <td>89.850000</td>\n",
       "      <td>81.440000</td>\n",
       "      <td>3799.837500</td>\n",
       "    </tr>\n",
       "    <tr>\n",
       "      <th>max</th>\n",
       "      <td>118.750000</td>\n",
       "      <td>81.440000</td>\n",
       "      <td>8684.800000</td>\n",
       "    </tr>\n",
       "  </tbody>\n",
       "</table>\n",
       "</div>"
      ],
      "text/plain": [
       "       MonthlyCharges  winsorized_MonthlyCharges  TotalCharges\n",
       "count     7022.000000                7022.000000   7022.000000\n",
       "mean        64.798839                  62.788334   2284.121981\n",
       "std         30.085115                  19.287947   2266.972770\n",
       "min         18.250000                  35.500000     18.800000\n",
       "25%         35.612500                  35.612500    401.350000\n",
       "50%         70.350000                  70.350000   1397.950000\n",
       "75%         89.850000                  81.440000   3799.837500\n",
       "max        118.750000                  81.440000   8684.800000"
      ]
     },
     "execution_count": 245,
     "metadata": {},
     "output_type": "execute_result"
    }
   ],
   "source": [
    "summary_stats = df[['MonthlyCharges', 'winsorized_MonthlyCharges', 'TotalCharges']].describe()\n",
    "summary_stats"
   ]
  },
  {
   "cell_type": "code",
   "execution_count": 246,
   "metadata": {},
   "outputs": [
    {
     "name": "stdout",
     "output_type": "stream",
     "text": [
      "<built-in method __array__ of numpy.ndarray object at 0x13feb35d0> TotalCharges\n",
      "20.20      11\n",
      "19.75       9\n",
      "19.90       8\n",
      "19.65       8\n",
      "20.05       8\n",
      "           ..\n",
      "2117.20     1\n",
      "203.95      1\n",
      "6849.40     1\n",
      "692.35      1\n",
      "6844.50     1\n",
      "Name: count, Length: 6520, dtype: int64\n"
     ]
    }
   ],
   "source": [
    "# Inspecting problem with Total charges\n",
    "unique_values = df['TotalCharges'].unique().__array__\n",
    "value_counts = df['TotalCharges'].value_counts()\n",
    "\n",
    "print(unique_values, value_counts)"
   ]
  },
  {
   "cell_type": "code",
   "execution_count": 247,
   "metadata": {},
   "outputs": [],
   "source": [
    "# Clearly some outliers, big difference between 75% and max charges😬\n",
    "# But there are too many columns to just remove them"
   ]
  },
  {
   "cell_type": "code",
   "execution_count": 248,
   "metadata": {},
   "outputs": [
    {
     "data": {
      "image/png": "[encoded data removed]",
      "text/plain": [
       "<Figure size 800x600 with 1 Axes>"
      ]
     },
     "metadata": {},
     "output_type": "display_data"
    }
   ],
   "source": [
    "dv(df, 'TotalCharges')"
   ]
  },
  {
   "cell_type": "code",
   "execution_count": 249,
   "metadata": {},
   "outputs": [
    {
     "name": "stdout",
     "output_type": "stream",
     "text": [
      "Original Total charges:\n",
      "0         29.85\n",
      "1       1889.50\n",
      "2        108.15\n",
      "3       1840.75\n",
      "4        151.65\n",
      "         ...   \n",
      "7038    1990.50\n",
      "7039    7362.90\n",
      "7040     346.45\n",
      "7041     306.60\n",
      "7042    6844.50\n",
      "Name: TotalCharges, Length: 7022, dtype: float64\n",
      "\n",
      "Scaled Total charges:\n",
      "0         23.077441\n",
      "1        877.580822\n",
      "2         59.056047\n",
      "3        855.180348\n",
      "4         79.044161\n",
      "           ...     \n",
      "7038     923.990007\n",
      "7039    3392.591069\n",
      "7040     168.554154\n",
      "7041     150.243203\n",
      "7042    3154.387884\n",
      "Name: scaledTotalCharges, Length: 7022, dtype: float64\n"
     ]
    }
   ],
   "source": [
    "# scaling tenure between 12 and 140\n",
    "TotalCharges_min = 18\n",
    "TotalCharges_max = 4000\n",
    "scaler = MinMaxScaler(feature_range=(TotalCharges_min, TotalCharges_max))\n",
    "\n",
    "df['scaledTotalCharges'] = scaler.fit_transform(df[['TotalCharges']])\n",
    "\n",
    "print(\"Original Total charges:\")\n",
    "print(df['TotalCharges'])\n",
    "\n",
    "print(\"\\nScaled Total charges:\")\n",
    "print(df['scaledTotalCharges'])"
   ]
  },
  {
   "cell_type": "code",
   "execution_count": 250,
   "metadata": {},
   "outputs": [
    {
     "data": {
      "image/png": "[encoded data removed]",
      "text/plain": [
       "<Figure size 800x600 with 1 Axes>"
      ]
     },
     "metadata": {},
     "output_type": "display_data"
    }
   ],
   "source": [
    "dv(df, 'scaledTotalCharges')"
   ]
  },
  {
   "cell_type": "code",
   "execution_count": 251,
   "metadata": {},
   "outputs": [
    {
     "name": "stdout",
     "output_type": "stream",
     "text": [
      "Maximum: 3999.9999999999995\n",
      "Minimum: 18.0\n",
      "Range: 3981.9999999999995\n",
      "Average: 1058.9083923392525\n",
      "Standard Deviation: 1041.666924728371\n"
     ]
    }
   ],
   "source": [
    "# Statistics on Scaled Total Charges\n",
    "maximum_ScaledTC = df['scaledTotalCharges'].max()\n",
    "minimum_ScaledTC = df['scaledTotalCharges'].min()\n",
    "data_range_ScaledTC = maximum_ScaledTC - minimum_ScaledTC\n",
    "average_ScaledTC = df['scaledTotalCharges'].mean()\n",
    "std_deviation_ScaledTC = df['scaledTotalCharges'].std()\n",
    "print(f\"Maximum: {maximum_ScaledTC}\")\n",
    "print(f\"Minimum: {minimum_ScaledTC}\")\n",
    "print(f\"Range: {data_range_ScaledTC}\")\n",
    "print(f\"Average: {average_ScaledTC}\")\n",
    "print(f\"Standard Deviation: {std_deviation_ScaledTC}\")"
   ]
  },
  {
   "cell_type": "code",
   "execution_count": 252,
   "metadata": {},
   "outputs": [
    {
     "data": {
      "text/html": [
       "<div>\n",
       "<style scoped>\n",
       "    .dataframe tbody tr th:only-of-type {\n",
       "        vertical-align: middle;\n",
       "    }\n",
       "\n",
       "    .dataframe tbody tr th {\n",
       "        vertical-align: top;\n",
       "    }\n",
       "\n",
       "    .dataframe thead th {\n",
       "        text-align: right;\n",
       "    }\n",
       "</style>\n",
       "<table border=\"1\" class=\"dataframe\">\n",
       "  <thead>\n",
       "    <tr style=\"text-align: right;\">\n",
       "      <th></th>\n",
       "      <th>TotalCharges</th>\n",
       "      <th>scaledTotalCharges</th>\n",
       "    </tr>\n",
       "  </thead>\n",
       "  <tbody>\n",
       "    <tr>\n",
       "      <th>count</th>\n",
       "      <td>7022.000000</td>\n",
       "      <td>7022.000000</td>\n",
       "    </tr>\n",
       "    <tr>\n",
       "      <th>mean</th>\n",
       "      <td>2284.121981</td>\n",
       "      <td>1058.908392</td>\n",
       "    </tr>\n",
       "    <tr>\n",
       "      <th>std</th>\n",
       "      <td>2266.972770</td>\n",
       "      <td>1041.666925</td>\n",
       "    </tr>\n",
       "    <tr>\n",
       "      <th>min</th>\n",
       "      <td>18.800000</td>\n",
       "      <td>18.000000</td>\n",
       "    </tr>\n",
       "    <tr>\n",
       "      <th>25%</th>\n",
       "      <td>401.350000</td>\n",
       "      <td>193.780533</td>\n",
       "    </tr>\n",
       "    <tr>\n",
       "      <th>50%</th>\n",
       "      <td>1397.950000</td>\n",
       "      <td>651.715128</td>\n",
       "    </tr>\n",
       "    <tr>\n",
       "      <th>75%</th>\n",
       "      <td>3799.837500</td>\n",
       "      <td>1755.374951</td>\n",
       "    </tr>\n",
       "    <tr>\n",
       "      <th>max</th>\n",
       "      <td>8684.800000</td>\n",
       "      <td>4000.000000</td>\n",
       "    </tr>\n",
       "  </tbody>\n",
       "</table>\n",
       "</div>"
      ],
      "text/plain": [
       "       TotalCharges  scaledTotalCharges\n",
       "count   7022.000000         7022.000000\n",
       "mean    2284.121981         1058.908392\n",
       "std     2266.972770         1041.666925\n",
       "min       18.800000           18.000000\n",
       "25%      401.350000          193.780533\n",
       "50%     1397.950000          651.715128\n",
       "75%     3799.837500         1755.374951\n",
       "max     8684.800000         4000.000000"
      ]
     },
     "execution_count": 252,
     "metadata": {},
     "output_type": "execute_result"
    }
   ],
   "source": [
    "TotalCharges_Stats = df[['TotalCharges', 'scaledTotalCharges']].describe()\n",
    "TotalCharges_Stats"
   ]
  },
  {
   "cell_type": "code",
   "execution_count": 253,
   "metadata": {},
   "outputs": [
    {
     "data": {
      "text/plain": [
       "gender                         int64\n",
       "SeniorCitizen                  int64\n",
       "Partner                        int64\n",
       "Dependents                     int64\n",
       "scaledtenure                 float64\n",
       "PhoneService                   int64\n",
       "MultipleLines                  int64\n",
       "InternetService                int64\n",
       "OnlineSecurity                 int64\n",
       "OnlineBackup                   int64\n",
       "DeviceProtection               int64\n",
       "TechSupport                    int64\n",
       "StreamingTV                    int64\n",
       "StreamingMovies                int64\n",
       "Contract_Month-to-month         bool\n",
       "Contract_One year               bool\n",
       "Contract_Two year               bool\n",
       "PaperlessBilling               int64\n",
       "AutomaticPayment               int64\n",
       "winsorized_MonthlyCharges    float64\n",
       "scaledTotalCharges           float64\n",
       "Churn                          int64\n",
       "dtype: object"
      ]
     },
     "execution_count": 253,
     "metadata": {},
     "output_type": "execute_result"
    }
   ],
   "source": [
    "# Reordering the df to follow data matrix conventions\n",
    "new_order_DM = ['gender', 'SeniorCitizen', 'Partner', 'Dependents',\n",
    "       'scaledtenure', 'PhoneService', 'MultipleLines', 'InternetService',\n",
    "       'OnlineSecurity', 'OnlineBackup', 'DeviceProtection', 'TechSupport',\n",
    "       'StreamingTV', 'StreamingMovies', 'Contract_Month-to-month', 'Contract_One year', \n",
    "       'Contract_Two year', 'PaperlessBilling','AutomaticPayment', 'winsorized_MonthlyCharges', \n",
    "       'scaledTotalCharges', 'Churn']\n",
    "df_cleansed = df[new_order_DM]\n",
    "df_cleansed.dtypes"
   ]
  },
  {
   "cell_type": "code",
   "execution_count": 254,
   "metadata": {},
   "outputs": [
    {
     "name": "stderr",
     "output_type": "stream",
     "text": [
      "/var/folders/xg/p3q3yztd1tzgf72581g38x4h0000gn/T/ipykernel_26612/3331735005.py:8: SettingWithCopyWarning: \n",
      "A value is trying to be set on a copy of a slice from a DataFrame.\n",
      "Try using .loc[row_indexer,col_indexer] = value instead\n",
      "\n",
      "See the caveats in the documentation: https://pandas.pydata.org/pandas-docs/stable/user_guide/indexing.html#returning-a-view-versus-a-copy\n",
      "  df_cleansed[columns_to_convert] = df_cleansed[columns_to_convert].astype(bool)\n"
     ]
    },
    {
     "data": {
      "text/plain": [
       "gender                          bool\n",
       "SeniorCitizen                   bool\n",
       "Partner                         bool\n",
       "Dependents                      bool\n",
       "scaledtenure                 float64\n",
       "PhoneService                    bool\n",
       "MultipleLines                   bool\n",
       "InternetService                 bool\n",
       "OnlineSecurity                  bool\n",
       "OnlineBackup                    bool\n",
       "DeviceProtection                bool\n",
       "TechSupport                     bool\n",
       "StreamingTV                     bool\n",
       "StreamingMovies                 bool\n",
       "Contract_Month-to-month         bool\n",
       "Contract_One year               bool\n",
       "Contract_Two year               bool\n",
       "PaperlessBilling                bool\n",
       "AutomaticPayment                bool\n",
       "winsorized_MonthlyCharges    float64\n",
       "scaledTotalCharges           float64\n",
       "Churn                           bool\n",
       "dtype: object"
      ]
     },
     "execution_count": 254,
     "metadata": {},
     "output_type": "execute_result"
    }
   ],
   "source": [
    "# Columns to convert to booleans\n",
    "columns_to_convert = ['gender', 'SeniorCitizen', 'Partner', 'Dependents', 'PhoneService',\n",
    "       'MultipleLines', 'InternetService', 'OnlineSecurity', 'OnlineBackup',\n",
    "       'DeviceProtection', 'TechSupport', 'StreamingTV', 'StreamingMovies',\n",
    "       'PaperlessBilling', 'AutomaticPayment', 'Churn']\n",
    "\n",
    "# Convert selected columns to booleans\n",
    "df_cleansed[columns_to_convert] = df_cleansed[columns_to_convert].astype(bool)\n",
    "df_cleansed.dtypes"
   ]
  },
  {
   "cell_type": "code",
   "execution_count": 255,
   "metadata": {},
   "outputs": [
    {
     "data": {
      "image/png": "[encoded data removed]",
      "text/plain": [
       "<Figure size 1600x1400 with 2 Axes>"
      ]
     },
     "metadata": {},
     "output_type": "display_data"
    }
   ],
   "source": [
    "# plt.tight_layout()\n",
    "plt.figure(figsize=(16, 14)) \n",
    "correlation_matrix = df_cleansed.corr()  \n",
    "sns.heatmap(correlation_matrix, annot=True, cmap='coolwarm')\n",
    "plt.title('Correlation Heatmap')\n",
    "plt.show()"
   ]
  },
  {
   "cell_type": "code",
   "execution_count": 256,
   "metadata": {},
   "outputs": [],
   "source": [
    "#import everything we need for modeling\n",
    "from sklearn.linear_model import LogisticRegression\n",
    "from sklearn.model_selection import train_test_split\n",
    "from sklearn.metrics import log_loss\n",
    "from sklearn.metrics import accuracy_score\n",
    "from sklearn.metrics import confusion_matrix, classification_report"
   ]
  },
  {
   "cell_type": "code",
   "execution_count": 257,
   "metadata": {},
   "outputs": [
    {
     "name": "stdout",
     "output_type": "stream",
     "text": [
      "Index(['gender', 'SeniorCitizen', 'Partner', 'Dependents', 'scaledtenure',\n",
      "       'PhoneService', 'MultipleLines', 'InternetService', 'OnlineSecurity',\n",
      "       'OnlineBackup', 'DeviceProtection', 'TechSupport', 'StreamingTV',\n",
      "       'StreamingMovies', 'Contract_Month-to-month', 'Contract_One year',\n",
      "       'Contract_Two year', 'PaperlessBilling', 'AutomaticPayment',\n",
      "       'winsorized_MonthlyCharges', 'scaledTotalCharges'],\n",
      "      dtype='object')\n"
     ]
    }
   ],
   "source": [
    "#get features for training the logistic regression\n",
    "feature_list = df_cleansed.columns[:-1]\n",
    "print(feature_list)"
   ]
  },
  {
   "cell_type": "code",
   "execution_count": 258,
   "metadata": {},
   "outputs": [],
   "source": [
    "y = df_cleansed['Churn']\n",
    "X = df_cleansed[feature_list]"
   ]
  },
  {
   "cell_type": "code",
   "execution_count": 259,
   "metadata": {},
   "outputs": [],
   "source": [
    "X_train, X_test, y_train, y_test = train_test_split(X, y, test_size=.33, random_state=1234)"
   ]
  },
  {
   "cell_type": "code",
   "execution_count": 260,
   "metadata": {},
   "outputs": [
    {
     "name": "stdout",
     "output_type": "stream",
     "text": [
      "(4704, 21)\n",
      "(2318, 21)\n"
     ]
    }
   ],
   "source": [
    "print(X_train.shape)\n",
    "print(X_test.shape)"
   ]
  },
  {
   "cell_type": "code",
   "execution_count": 261,
   "metadata": {},
   "outputs": [
    {
     "data": {
      "text/plain": [
       "[1.024e-07,\n",
       " 5.12e-07,\n",
       " 2.56e-06,\n",
       " 1.28e-05,\n",
       " 6.4e-05,\n",
       " 0.00032,\n",
       " 0.0016,\n",
       " 0.008,\n",
       " 0.04,\n",
       " 0.2,\n",
       " 1,\n",
       " 5,\n",
       " 25,\n",
       " 125,\n",
       " 625,\n",
       " 3125,\n",
       " 15625,\n",
       " 78125,\n",
       " 390625,\n",
       " 1953125]"
      ]
     },
     "execution_count": 261,
     "metadata": {},
     "output_type": "execute_result"
    }
   ],
   "source": [
    "#Create dif hyperparam for regularization\n",
    "Cs = [5**i for i in range(-10,10)]\n",
    "Cs"
   ]
  },
  {
   "cell_type": "code",
   "execution_count": 313,
   "metadata": {},
   "outputs": [],
   "source": [
    "#define a function to test dif hyperparams\n",
    "def train_test_LR(X_train, y_train, X_test, y_test, c=1):\n",
    "\n",
    "    #Create the  scikit-learn LogisticRegression model\n",
    "    model = LogisticRegression(C=c)\n",
    "\n",
    "    #Fit the model\n",
    "    model.fit(X_train, y_train)\n",
    "\n",
    "    # Make predictions\n",
    "    churn_predictions = model.predict(X_test)\n",
    "\n",
    "    # Compute the confusion matrix\n",
    "    cm = confusion_matrix(y_test, churn_predictions)\n",
    "\n",
    "    #Make predictions on the test data\n",
    "    probability_predictions = model.predict_proba(X_test)\n",
    "\n",
    "    #Compute the log loss\n",
    "    l_loss = log_loss(y_test, probability_predictions)\n",
    "\n",
    "    #Compute the accuracy score\n",
    "    acc_score = accuracy_score(y_test, churn_predictions)\n",
    "\n",
    "    # Get the feature coefficients\n",
    "    feature_coeffs = model.coef_[0]\n",
    "\n",
    "    # Create a DataFrame to associate feature names with their coefficients\n",
    "    coefficients_df = pd.DataFrame({'Feature': X.columns, 'Coefficient': feature_coeffs})\n",
    "\n",
    "    # Sort the DataFrame by coefficient values to see which features are most important\n",
    "    sorted_coeffs = coefficients_df.sort_values(by='Coefficient', ascending=False)\n",
    "\n",
    "    return cm, l_loss, acc_score, sorted_coeffs"
   ]
  },
  {
   "cell_type": "code",
   "execution_count": 314,
   "metadata": {},
   "outputs": [
    {
     "name": "stderr",
     "output_type": "stream",
     "text": [
      "/opt/homebrew/lib/python3.10/site-packages/sklearn/linear_model/_logistic.py:460: ConvergenceWarning: lbfgs failed to converge (status=1):\n",
      "STOP: TOTAL NO. of ITERATIONS REACHED LIMIT.\n",
      "\n",
      "Increase the number of iterations (max_iter) or scale the data as shown in:\n",
      "    https://scikit-learn.org/stable/modules/preprocessing.html\n",
      "Please also refer to the documentation for alternative solver options:\n",
      "    https://scikit-learn.org/stable/modules/linear_model.html#logistic-regression\n",
      "  n_iter_i = _check_optimize_result(\n"
     ]
    },
    {
     "name": "stdout",
     "output_type": "stream",
     "text": [
      "Confusion Matrix:\n",
      "[[930  95]\n",
      " [188 192]]\n",
      "Log Loss: 0.41847828395701797\n",
      "Accuracy Score: 0.798576512455516\n"
     ]
    },
    {
     "data": {
      "image/png": "[encoded data removed]",
      "text/plain": [
       "<Figure size 1000x600 with 1 Axes>"
      ]
     },
     "metadata": {},
     "output_type": "display_data"
    }
   ],
   "source": [
    "cm, l_loss, acc_score, sorted_coeffs = train_test_LR(X_train, y_train, X_test, y_test, c=1)\n",
    "\n",
    "# Print the confusion matrix\n",
    "print(\"Confusion Matrix:\")\n",
    "print(cm)\n",
    "\n",
    "# Print log loss and accuracy score\n",
    "print(f\"Log Loss: {l_loss}\")\n",
    "print(f\"Accuracy Score: {acc_score}\")\n",
    "\n",
    "# Plot the feature importance\n",
    "plt.figure(figsize=(10, 6))\n",
    "plt.barh(sorted_coeffs['Feature'], sorted_coeffs['Coefficient'])\n",
    "plt.xlabel('Coefficient Value')\n",
    "plt.ylabel('Feature')\n",
    "plt.title('Feature Importance in Logistic Regression')\n",
    "plt.show()"
   ]
  },
  {
   "cell_type": "code",
   "execution_count": 264,
   "metadata": {},
   "outputs": [
    {
     "name": "stderr",
     "output_type": "stream",
     "text": [
      "/opt/homebrew/lib/python3.10/site-packages/sklearn/linear_model/_logistic.py:460: ConvergenceWarning: lbfgs failed to converge (status=1):\n",
      "STOP: TOTAL NO. of ITERATIONS REACHED LIMIT.\n",
      "\n",
      "Increase the number of iterations (max_iter) or scale the data as shown in:\n",
      "    https://scikit-learn.org/stable/modules/preprocessing.html\n",
      "Please also refer to the documentation for alternative solver options:\n",
      "    https://scikit-learn.org/stable/modules/linear_model.html#logistic-regression\n",
      "  n_iter_i = _check_optimize_result(\n",
      "/opt/homebrew/lib/python3.10/site-packages/sklearn/linear_model/_logistic.py:460: ConvergenceWarning: lbfgs failed to converge (status=1):\n",
      "STOP: TOTAL NO. of ITERATIONS REACHED LIMIT.\n",
      "\n",
      "Increase the number of iterations (max_iter) or scale the data as shown in:\n",
      "    https://scikit-learn.org/stable/modules/preprocessing.html\n",
      "Please also refer to the documentation for alternative solver options:\n",
      "    https://scikit-learn.org/stable/modules/linear_model.html#logistic-regression\n",
      "  n_iter_i = _check_optimize_result(\n",
      "/opt/homebrew/lib/python3.10/site-packages/sklearn/linear_model/_logistic.py:460: ConvergenceWarning: lbfgs failed to converge (status=1):\n",
      "STOP: TOTAL NO. of ITERATIONS REACHED LIMIT.\n",
      "\n",
      "Increase the number of iterations (max_iter) or scale the data as shown in:\n",
      "    https://scikit-learn.org/stable/modules/preprocessing.html\n",
      "Please also refer to the documentation for alternative solver options:\n",
      "    https://scikit-learn.org/stable/modules/linear_model.html#logistic-regression\n",
      "  n_iter_i = _check_optimize_result(\n",
      "/opt/homebrew/lib/python3.10/site-packages/sklearn/linear_model/_logistic.py:460: ConvergenceWarning: lbfgs failed to converge (status=1):\n",
      "STOP: TOTAL NO. of ITERATIONS REACHED LIMIT.\n",
      "\n",
      "Increase the number of iterations (max_iter) or scale the data as shown in:\n",
      "    https://scikit-learn.org/stable/modules/preprocessing.html\n",
      "Please also refer to the documentation for alternative solver options:\n",
      "    https://scikit-learn.org/stable/modules/linear_model.html#logistic-regression\n",
      "  n_iter_i = _check_optimize_result(\n",
      "/opt/homebrew/lib/python3.10/site-packages/sklearn/linear_model/_logistic.py:460: ConvergenceWarning: lbfgs failed to converge (status=1):\n",
      "STOP: TOTAL NO. of ITERATIONS REACHED LIMIT.\n",
      "\n",
      "Increase the number of iterations (max_iter) or scale the data as shown in:\n",
      "    https://scikit-learn.org/stable/modules/preprocessing.html\n",
      "Please also refer to the documentation for alternative solver options:\n",
      "    https://scikit-learn.org/stable/modules/linear_model.html#logistic-regression\n",
      "  n_iter_i = _check_optimize_result(\n",
      "/opt/homebrew/lib/python3.10/site-packages/sklearn/linear_model/_logistic.py:460: ConvergenceWarning: lbfgs failed to converge (status=1):\n",
      "STOP: TOTAL NO. of ITERATIONS REACHED LIMIT.\n",
      "\n",
      "Increase the number of iterations (max_iter) or scale the data as shown in:\n",
      "    https://scikit-learn.org/stable/modules/preprocessing.html\n",
      "Please also refer to the documentation for alternative solver options:\n",
      "    https://scikit-learn.org/stable/modules/linear_model.html#logistic-regression\n",
      "  n_iter_i = _check_optimize_result(\n",
      "/opt/homebrew/lib/python3.10/site-packages/sklearn/linear_model/_logistic.py:460: ConvergenceWarning: lbfgs failed to converge (status=1):\n",
      "STOP: TOTAL NO. of ITERATIONS REACHED LIMIT.\n",
      "\n",
      "Increase the number of iterations (max_iter) or scale the data as shown in:\n",
      "    https://scikit-learn.org/stable/modules/preprocessing.html\n",
      "Please also refer to the documentation for alternative solver options:\n",
      "    https://scikit-learn.org/stable/modules/linear_model.html#logistic-regression\n",
      "  n_iter_i = _check_optimize_result(\n",
      "/opt/homebrew/lib/python3.10/site-packages/sklearn/linear_model/_logistic.py:460: ConvergenceWarning: lbfgs failed to converge (status=1):\n",
      "STOP: TOTAL NO. of ITERATIONS REACHED LIMIT.\n",
      "\n",
      "Increase the number of iterations (max_iter) or scale the data as shown in:\n",
      "    https://scikit-learn.org/stable/modules/preprocessing.html\n",
      "Please also refer to the documentation for alternative solver options:\n",
      "    https://scikit-learn.org/stable/modules/linear_model.html#logistic-regression\n",
      "  n_iter_i = _check_optimize_result(\n",
      "/opt/homebrew/lib/python3.10/site-packages/sklearn/linear_model/_logistic.py:460: ConvergenceWarning: lbfgs failed to converge (status=1):\n",
      "STOP: TOTAL NO. of ITERATIONS REACHED LIMIT.\n",
      "\n",
      "Increase the number of iterations (max_iter) or scale the data as shown in:\n",
      "    https://scikit-learn.org/stable/modules/preprocessing.html\n",
      "Please also refer to the documentation for alternative solver options:\n",
      "    https://scikit-learn.org/stable/modules/linear_model.html#logistic-regression\n",
      "  n_iter_i = _check_optimize_result(\n"
     ]
    }
   ],
   "source": [
    "#iterate through each hyperparam value and record performance\n",
    "loglosses_cs = []\n",
    "acc_cs = []\n",
    "for c in Cs:\n",
    "    cm, ll, acc = train_test_LR(X_train, y_train, X_test, y_test, c=c)\n",
    "    loglosses_cs.append(ll)\n",
    "    acc_cs.append(acc)"
   ]
  },
  {
   "cell_type": "code",
   "execution_count": 265,
   "metadata": {},
   "outputs": [
    {
     "name": "stdout",
     "output_type": "stream",
     "text": [
      "c = 1.024e-07 the accuracy score is  0.7200172562553926\n",
      "c = 5.12e-07 the accuracy score is  0.7200172562553926\n",
      "c = 2.56e-06 the accuracy score is  0.7286453839516824\n",
      "c = 1.28e-05 the accuracy score is  0.7704918032786885\n",
      "c = 6.4e-05 the accuracy score is  0.77351164797239\n",
      "c = 0.00032 the accuracy score is  0.7756686798964625\n",
      "c = 0.0016 the accuracy score is  0.776962899050906\n",
      "c = 0.008 the accuracy score is  0.7842968075927523\n",
      "c = 0.04 the accuracy score is  0.7855910267471958\n",
      "c = 0.2 the accuracy score is  0.7873166522864539\n",
      "c = 1 the accuracy score is  0.7890422778257118\n",
      "c = 5 the accuracy score is  0.7851596203623814\n",
      "c = 25 the accuracy score is  0.7855910267471958\n",
      "c = 125 the accuracy score is  0.7868852459016393\n",
      "c = 625 the accuracy score is  0.7868852459016393\n",
      "c = 3125 the accuracy score is  0.7851596203623814\n",
      "c = 15625 the accuracy score is  0.7851596203623814\n",
      "c = 78125 the accuracy score is  0.7851596203623814\n",
      "c = 390625 the accuracy score is  0.7851596203623814\n",
      "c = 1953125 the accuracy score is  0.7851596203623814\n"
     ]
    }
   ],
   "source": [
    "for i in range(len(acc_cs)):\n",
    "  print(\"c =\", Cs[i], \"the accuracy score is \", acc_cs[i])"
   ]
  },
  {
   "cell_type": "code",
   "execution_count": 266,
   "metadata": {},
   "outputs": [],
   "source": [
    "# c =0.008 seems like the most optimal option because we get a large improvement from the previous hyperparam\n",
    "# while not risking overfitting as the acc score does not significantly higher"
   ]
  },
  {
   "cell_type": "code",
   "execution_count": 267,
   "metadata": {},
   "outputs": [],
   "source": [
    "# evalutation metrics for logistic regression"
   ]
  },
  {
   "cell_type": "code",
   "execution_count": 268,
   "metadata": {},
   "outputs": [],
   "source": [
    "# data visualization for logsistic regression"
   ]
  },
  {
   "cell_type": "code",
   "execution_count": 269,
   "metadata": {},
   "outputs": [],
   "source": [
    "from sklearn.metrics import accuracy_score, precision_score, recall_score, f1_score, roc_auc_score, confusion_matrix"
   ]
  },
  {
   "cell_type": "code",
   "execution_count": 270,
   "metadata": {},
   "outputs": [],
   "source": [
    "#create train and test tests\n",
    "X_train, X_test, y_train, y_test = train_test_split(X, y, test_size=0.2, random_state=42)"
   ]
  },
  {
   "cell_type": "code",
   "execution_count": 271,
   "metadata": {},
   "outputs": [
    {
     "data": {
      "text/html": [
       "<style>#sk-container-id-3 {color: black;}#sk-container-id-3 pre{padding: 0;}#sk-container-id-3 div.sk-toggleable {background-color: white;}#sk-container-id-3 label.sk-toggleable__label {cursor: pointer;display: block;width: 100%;margin-bottom: 0;padding: 0.3em;box-sizing: border-box;text-align: center;}#sk-container-id-3 label.sk-toggleable__label-arrow:before {content: \"▸\";float: left;margin-right: 0.25em;color: #696969;}#sk-container-id-3 label.sk-toggleable__label-arrow:hover:before {color: black;}#sk-container-id-3 div.sk-estimator:hover label.sk-toggleable__label-arrow:before {color: black;}#sk-container-id-3 div.sk-toggleable__content {max-height: 0;max-width: 0;overflow: hidden;text-align: left;background-color: #f0f8ff;}#sk-container-id-3 div.sk-toggleable__content pre {margin: 0.2em;color: black;border-radius: 0.25em;background-color: #f0f8ff;}#sk-container-id-3 input.sk-toggleable__control:checked~div.sk-toggleable__content {max-height: 200px;max-width: 100%;overflow: auto;}#sk-container-id-3 input.sk-toggleable__control:checked~label.sk-toggleable__label-arrow:before {content: \"▾\";}#sk-container-id-3 div.sk-estimator input.sk-toggleable__control:checked~label.sk-toggleable__label {background-color: #d4ebff;}#sk-container-id-3 div.sk-label input.sk-toggleable__control:checked~label.sk-toggleable__label {background-color: #d4ebff;}#sk-container-id-3 input.sk-hidden--visually {border: 0;clip: rect(1px 1px 1px 1px);clip: rect(1px, 1px, 1px, 1px);height: 1px;margin: -1px;overflow: hidden;padding: 0;position: absolute;width: 1px;}#sk-container-id-3 div.sk-estimator {font-family: monospace;background-color: #f0f8ff;border: 1px dotted black;border-radius: 0.25em;box-sizing: border-box;margin-bottom: 0.5em;}#sk-container-id-3 div.sk-estimator:hover {background-color: #d4ebff;}#sk-container-id-3 div.sk-parallel-item::after {content: \"\";width: 100%;border-bottom: 1px solid gray;flex-grow: 1;}#sk-container-id-3 div.sk-label:hover label.sk-toggleable__label {background-color: #d4ebff;}#sk-container-id-3 div.sk-serial::before {content: \"\";position: absolute;border-left: 1px solid gray;box-sizing: border-box;top: 0;bottom: 0;left: 50%;z-index: 0;}#sk-container-id-3 div.sk-serial {display: flex;flex-direction: column;align-items: center;background-color: white;padding-right: 0.2em;padding-left: 0.2em;position: relative;}#sk-container-id-3 div.sk-item {position: relative;z-index: 1;}#sk-container-id-3 div.sk-parallel {display: flex;align-items: stretch;justify-content: center;background-color: white;position: relative;}#sk-container-id-3 div.sk-item::before, #sk-container-id-3 div.sk-parallel-item::before {content: \"\";position: absolute;border-left: 1px solid gray;box-sizing: border-box;top: 0;bottom: 0;left: 50%;z-index: -1;}#sk-container-id-3 div.sk-parallel-item {display: flex;flex-direction: column;z-index: 1;position: relative;background-color: white;}#sk-container-id-3 div.sk-parallel-item:first-child::after {align-self: flex-end;width: 50%;}#sk-container-id-3 div.sk-parallel-item:last-child::after {align-self: flex-start;width: 50%;}#sk-container-id-3 div.sk-parallel-item:only-child::after {width: 0;}#sk-container-id-3 div.sk-dashed-wrapped {border: 1px dashed gray;margin: 0 0.4em 0.5em 0.4em;box-sizing: border-box;padding-bottom: 0.4em;background-color: white;}#sk-container-id-3 div.sk-label label {font-family: monospace;font-weight: bold;display: inline-block;line-height: 1.2em;}#sk-container-id-3 div.sk-label-container {text-align: center;}#sk-container-id-3 div.sk-container {/* jupyter's `normalize.less` sets `[hidden] { display: none; }` but bootstrap.min.css set `[hidden] { display: none !important; }` so we also need the `!important` here to be able to override the default hidden behavior on the sphinx rendered scikit-learn.org. See: https://github.com/scikit-learn/scikit-learn/issues/21755 */display: inline-block !important;position: relative;}#sk-container-id-3 div.sk-text-repr-fallback {display: none;}</style><div id=\"sk-container-id-3\" class=\"sk-top-container\"><div class=\"sk-text-repr-fallback\"><pre>LogisticRegression(class_weight={0: 1, 1: 1.8805570433851098})</pre><b>In a Jupyter environment, please rerun this cell to show the HTML representation or trust the notebook. <br />On GitHub, the HTML representation is unable to render, please try loading this page with nbviewer.org.</b></div><div class=\"sk-container\" hidden><div class=\"sk-item\"><div class=\"sk-estimator sk-toggleable\"><input class=\"sk-toggleable__control sk-hidden--visually\" id=\"sk-estimator-id-3\" type=\"checkbox\" checked><label for=\"sk-estimator-id-3\" class=\"sk-toggleable__label sk-toggleable__label-arrow\">LogisticRegression</label><div class=\"sk-toggleable__content\"><pre>LogisticRegression(class_weight={0: 1, 1: 1.8805570433851098})</pre></div></div></div></div></div>"
      ],
      "text/plain": [
       "LogisticRegression(class_weight={0: 1, 1: 1.8805570433851098})"
      ]
     },
     "execution_count": 271,
     "metadata": {},
     "output_type": "execute_result"
    }
   ],
   "source": [
    "from sklearn.linear_model import LogisticRegression\n",
    "\n",
    "# Calculate class weights\n",
    "class_weight = {0: 1, 1: len(df) / (2 * df['Churn'].sum())}\n",
    "\n",
    "# Create a logistic regression model with class weights\n",
    "model = LogisticRegression(class_weight=class_weight)\n",
    "model.fit(X_train, y_train)\n"
   ]
  },
  {
   "cell_type": "code",
   "execution_count": 316,
   "metadata": {},
   "outputs": [
    {
     "data": {
      "image/png": "[encoded data removed]",
      "text/plain": [
       "<Figure size 1000x600 with 1 Axes>"
      ]
     },
     "metadata": {},
     "output_type": "display_data"
    }
   ],
   "source": [
    "#function that trains a random forest on dif max depth values\n",
    "def train_test_RF(X_train, y_train, X_test, y_test, maximum_depth):\n",
    "  #create a model\n",
    "  model = RandomForestClassifier(n_estimators=100, max_depth=maximum_depth, random_state=42)\n",
    "  #fit training data\n",
    "  model.fit(X_train, y_train)\n",
    "  #predict the test labels\n",
    "  y_pred = model.predict(X_test)\n",
    "\n",
    "  #calculate acc score\n",
    "  accuracy = accuracy_score(y_test, y_pred)\n",
    "  #calculate precision\n",
    "  precision = precision_score(y_test, y_pred)\n",
    "  #calculate recall\n",
    "  recall = recall_score(y_test, y_pred)\n",
    "  #calculate f1\n",
    "  f1 = f1_score(y_test, y_pred)\n",
    "  # Calculate ROC AUC\n",
    "  roc_auc = roc_auc_score(y_test, y_pred)\n",
    "  # Generate Confusion Matrix\n",
    "  confusion = confusion_matrix(y_test, y_pred)\n",
    "\n",
    "  print(f\"Maximum depth parameter is: {maximum_depth}\")\n",
    "  print(f\"Accuracy: {accuracy}\")\n",
    "  print(f\"Precision: {precision}\")\n",
    "  print(f\"Recall: {recall}\")\n",
    "  print(f\"F1-Score: {f1}\")\n",
    "  print(f\"ROC AUC: {roc_auc}\")\n",
    "  # Plot the confusion matrix as a heatmap\n",
    "  plt.figure(figsize=(4, 3))\n",
    "  sns.set(font_scale=0.5)\n",
    "  sns.heatmap(confusion, annot=True, fmt=\"d\", cmap=\"Blues\",\n",
    "            xticklabels=[\"Predicted Negative\", \"Predicted Positive\"],\n",
    "            yticklabels=[\"Actual Negative\", \"Actual Positive\"])\n",
    "  plt.xlabel(\"Predicted\")\n",
    "  plt.ylabel(\"Actual\")\n",
    "  plt.title(\"Confusion Matrix\")\n",
    "  plt.show()\n",
    "  \n",
    "# Get feature importances\n",
    "feature_importances = model.feature_importances_\n",
    "\n",
    "# Create a DataFrame to associate feature names with their importances\n",
    "importances_df = pd.DataFrame({'Feature': X.columns, 'Importance': feature_importances})\n",
    "\n",
    "# Sort the DataFrame by importance values\n",
    "sorted_importances = importances_df.sort_values(by='Importance', ascending=False)\n",
    "\n",
    "# Plot the feature importance\n",
    "plt.figure(figsize=(10, 6))\n",
    "plt.barh(sorted_importances['Feature'], sorted_importances['Importance'])\n",
    "plt.xlabel('Importance Value')\n",
    "plt.ylabel('Feature')\n",
    "plt.title('Feature Importance in Random Forest')\n",
    "plt.show()"
   ]
  },
  {
   "cell_type": "code",
   "execution_count": 273,
   "metadata": {},
   "outputs": [
    {
     "name": "stdout",
     "output_type": "stream",
     "text": [
      "Maximum depth parameter is: 2\n",
      "Accuracy: 0.7295373665480427\n",
      "Precision: 0.0\n",
      "Recall: 0.0\n",
      "F1-Score: 0.0\n",
      "ROC AUC: 0.5\n"
     ]
    },
    {
     "name": "stderr",
     "output_type": "stream",
     "text": [
      "/opt/homebrew/lib/python3.10/site-packages/sklearn/metrics/_classification.py:1469: UndefinedMetricWarning: Precision is ill-defined and being set to 0.0 due to no predicted samples. Use `zero_division` parameter to control this behavior.\n",
      "  _warn_prf(average, modifier, msg_start, len(result))\n"
     ]
    },
    {
     "data": {
      "image/png": "[encoded data removed]",
      "text/plain": [
       "<Figure size 400x300 with 2 Axes>"
      ]
     },
     "metadata": {},
     "output_type": "display_data"
    },
    {
     "name": "stdout",
     "output_type": "stream",
     "text": [
      "Maximum depth parameter is: 10\n",
      "Accuracy: 0.7957295373665481\n",
      "Precision: 0.6754716981132075\n",
      "Recall: 0.4710526315789474\n",
      "F1-Score: 0.5550387596899226\n",
      "ROC AUC: 0.6935750962772786\n"
     ]
    },
    {
     "data": {
      "image/png": "[encoded data removed]",
      "text/plain": [
       "<Figure size 400x300 with 2 Axes>"
      ]
     },
     "metadata": {},
     "output_type": "display_data"
    },
    {
     "name": "stdout",
     "output_type": "stream",
     "text": [
      "Maximum depth parameter is: 20\n",
      "Accuracy: 0.7829181494661922\n",
      "Precision: 0.6344086021505376\n",
      "Recall: 0.46578947368421053\n",
      "F1-Score: 0.5371775417298938\n",
      "ROC AUC: 0.6831386392811297\n"
     ]
    },
    {
     "data": {
      "image/png": "[encoded data removed]",
      "text/plain": [
       "<Figure size 400x300 with 2 Axes>"
      ]
     },
     "metadata": {},
     "output_type": "display_data"
    },
    {
     "name": "stdout",
     "output_type": "stream",
     "text": [
      "Maximum depth parameter is: 40\n",
      "Accuracy: 0.7850533807829182\n",
      "Precision: 0.6423357664233577\n",
      "Recall: 0.4631578947368421\n",
      "F1-Score: 0.5382262996941896\n",
      "ROC AUC: 0.6837740693196407\n"
     ]
    },
    {
     "data": {
      "image/png": "[encoded data removed]",
      "text/plain": [
       "<Figure size 400x300 with 2 Axes>"
      ]
     },
     "metadata": {},
     "output_type": "display_data"
    }
   ],
   "source": [
    "# hyperparam range for max depth\n",
    "max_depths = [2, 10, 20, 40]\n",
    "\n",
    "#test the hyperparam\n",
    "for maximum_depth in max_depths:\n",
    "  train_test_RF(X_train, y_train, X_test, y_test, maximum_depth)"
   ]
  },
  {
   "cell_type": "code",
   "execution_count": 274,
   "metadata": {},
   "outputs": [],
   "source": [
    "#function that trains a random forest on dif max depth values\n",
    "def train_test_RF_n_est(X_train, y_train, X_test, y_test, n_est):\n",
    "\n",
    "  #create a model\n",
    "  model = RandomForestClassifier(n_estimators=n_est, max_depth=10, random_state=42)\n",
    "  #fit training data\n",
    "  model.fit(X_train, y_train)\n",
    "  #predict the test labels\n",
    "  y_pred = model.predict(X_test)\n",
    "\n",
    "  #calculate acc score\n",
    "  accuracy = accuracy_score(y_test, y_pred)\n",
    "\n",
    "  print(f\"N estimator parameter is: {n_est}\")\n",
    "  print(f\"Accuracy: {accuracy}\\n\")\n",
    "  return accuracy"
   ]
  },
  {
   "cell_type": "code",
   "execution_count": 275,
   "metadata": {},
   "outputs": [
    {
     "name": "stdout",
     "output_type": "stream",
     "text": [
      "N estimator parameter is: 2\n",
      "Accuracy: 0.7743772241992882\n",
      "\n",
      "N estimator parameter is: 10\n",
      "Accuracy: 0.7957295373665481\n",
      "\n",
      "N estimator parameter is: 20\n",
      "Accuracy: 0.800711743772242\n",
      "\n",
      "N estimator parameter is: 50\n",
      "Accuracy: 0.797864768683274\n",
      "\n",
      "N estimator parameter is: 100\n",
      "Accuracy: 0.7957295373665481\n",
      "\n",
      "N estimator parameter is: 200\n",
      "Accuracy: 0.797153024911032\n",
      "\n",
      "N estimator parameter is: 500\n",
      "Accuracy: 0.799288256227758\n",
      "\n",
      "N estimator parameter is: 1000\n",
      "Accuracy: 0.800711743772242\n",
      "\n"
     ]
    }
   ],
   "source": [
    "#test different number of trees parameter\n",
    "n_ests = [2, 10, 20, 50, 100, 200, 500, 1000]\n",
    "n_est_accs = []\n",
    "for n_est in n_ests:\n",
    "  n_est_accs.append(train_test_RF_n_est(X_train, y_train, X_test, y_test, n_est))"
   ]
  },
  {
   "cell_type": "code",
   "execution_count": 276,
   "metadata": {},
   "outputs": [
    {
     "data": {
      "image/png": "[encoded data removed]",
      "text/plain": [
       "<Figure size 500x300 with 1 Axes>"
      ]
     },
     "metadata": {},
     "output_type": "display_data"
    }
   ],
   "source": [
    "#graph accuracies for dif n estimators(number of trees)\n",
    "plt.figure(figsize=(5, 3))\n",
    "plt.plot(n_ests, n_est_accs, marker='o', linestyle='-', color='b')\n",
    "plt.title('Model Accuracy vs. Number of Estimators')\n",
    "plt.xlabel('Number of Estimators')\n",
    "plt.ylabel('Accuracy')\n",
    "plt.grid(True)\n",
    "plt.show()\n"
   ]
  },
  {
   "cell_type": "code",
   "execution_count": 277,
   "metadata": {},
   "outputs": [
    {
     "data": {
      "text/plain": [
       "0.800711743772242"
      ]
     },
     "execution_count": 277,
     "metadata": {},
     "output_type": "execute_result"
    }
   ],
   "source": [
    "# modeling Random Forest using best hyperparameter values\n",
    "model = RandomForestClassifier(n_estimators=20, max_depth=10, random_state=42)\n",
    "model.fit(X_train, y_train)\n",
    "y_pred = model.predict(X_test)\n",
    "accuracy = accuracy_score(y_test, y_pred)\n",
    "\n",
    "accuracy"
   ]
  },
  {
   "cell_type": "code",
   "execution_count": 278,
   "metadata": {},
   "outputs": [
    {
     "name": "stderr",
     "output_type": "stream",
     "text": [
      "/opt/homebrew/lib/python3.10/site-packages/seaborn/_oldcore.py:1498: FutureWarning: is_categorical_dtype is deprecated and will be removed in a future version. Use isinstance(dtype, CategoricalDtype) instead\n",
      "  if pd.api.types.is_categorical_dtype(vector):\n",
      "/opt/homebrew/lib/python3.10/site-packages/seaborn/_oldcore.py:1498: FutureWarning: is_categorical_dtype is deprecated and will be removed in a future version. Use isinstance(dtype, CategoricalDtype) instead\n",
      "  if pd.api.types.is_categorical_dtype(vector):\n",
      "/opt/homebrew/lib/python3.10/site-packages/seaborn/_oldcore.py:1765: FutureWarning: unique with argument that is not not a Series, Index, ExtensionArray, or np.ndarray is deprecated and will raise in a future version.\n",
      "  order = pd.unique(vector)\n",
      "/opt/homebrew/lib/python3.10/site-packages/seaborn/_oldcore.py:1498: FutureWarning: is_categorical_dtype is deprecated and will be removed in a future version. Use isinstance(dtype, CategoricalDtype) instead\n",
      "  if pd.api.types.is_categorical_dtype(vector):\n"
     ]
    },
    {
     "data": {
      "image/png": "[encoded data removed]",
      "text/plain": [
       "<Figure size 640x480 with 1 Axes>"
      ]
     },
     "metadata": {},
     "output_type": "display_data"
    }
   ],
   "source": [
    "# data visualization for Random Forest\n",
    "import matplotlib.pyplot as plt\n",
    "import seaborn as sns\n",
    "\n",
    "# Sample metric values (replace with actual values)\n",
    "metrics = ['Accuracy', 'Precision', 'Recall', 'F1-Score']\n",
    "values = [0.7957, 0.6755, 0.4711, 0.5550]\n",
    "\n",
    "# Create a bar chart\n",
    "sns.barplot(x=values, y=metrics, palette='viridis')\n",
    "plt.xlabel('Metric Value')\n",
    "plt.title('Classification Metrics')\n",
    "plt.xlim(0, 1)\n",
    "plt.show()\n"
   ]
  },
  {
   "cell_type": "code",
   "execution_count": 279,
   "metadata": {},
   "outputs": [
    {
     "data": {
      "image/png": "[encoded data removed]",
      "text/plain": [
       "<Figure size 640x480 with 1 Axes>"
      ]
     },
     "metadata": {},
     "output_type": "display_data"
    }
   ],
   "source": [
    "from sklearn.metrics import roc_curve, auc\n",
    " # ROC curve\n",
    "fpr, tpr, _ = roc_curve(y_test, y_pred)\n",
    "roc_auc = roc_auc_score(y_test, y_pred)\n",
    "\n",
    "# Create an ROC curve\n",
    "plt.figure()\n",
    "plt.plot(fpr, tpr, color='darkorange', lw=2, label=f'ROC curve (AUC = {roc_auc:.2f})')\n",
    "plt.plot([0, 1], [0, 1], color='navy', lw=2, linestyle='--')\n",
    "plt.xlim([0.0, 1.0])\n",
    "plt.ylim([0.0, 1.05])\n",
    "plt.xlabel('False Positive Rate')\n",
    "plt.ylabel('True Positive Rate')\n",
    "plt.title('Receiver Operating Characteristic (ROC)')\n",
    "plt.legend(loc='lower right')\n",
    "plt.show()\n"
   ]
  },
  {
   "cell_type": "code",
   "execution_count": 280,
   "metadata": {},
   "outputs": [
    {
     "data": {
      "image/png": "[encoded data removed]",
      "text/plain": [
       "<Figure size 640x480 with 1 Axes>"
      ]
     },
     "metadata": {},
     "output_type": "display_data"
    }
   ],
   "source": [
    "import seaborn as sns\n",
    "\n",
    "# Sample confusion matrix (replace with actual values)\n",
    "conf_matrix = [[939, 86], [201, 179]]\n",
    "\n",
    "# Create a heatmap\n",
    "sns.heatmap(conf_matrix, annot=True, fmt='d', cmap='Blues', cbar=False)\n",
    "plt.xlabel('Predicted Labels')\n",
    "plt.ylabel('True Labels')\n",
    "plt.title('Confusion Matrix')\n",
    "plt.show()\n"
   ]
  },
  {
   "cell_type": "code",
   "execution_count": 281,
   "metadata": {},
   "outputs": [],
   "source": [
    "# modeling using XGboost"
   ]
  },
  {
   "cell_type": "code",
   "execution_count": 282,
   "metadata": {},
   "outputs": [],
   "source": [
    "# evalutation metrics for XGboost"
   ]
  },
  {
   "cell_type": "code",
   "execution_count": 283,
   "metadata": {},
   "outputs": [],
   "source": [
    "# data visualization for XGboost"
   ]
  },
  {
   "cell_type": "code",
   "execution_count": 284,
   "metadata": {},
   "outputs": [],
   "source": [
    "# modeling using Gradient Boost\n",
    "#from sklearn.ensemble import GradientBoostingClassifier\n",
    "#X_train, X_test, y_train, y_test = train_test_split(X, y, test_size=0.33, random_state=1234)\n",
    "#print('Begin GBDT Implementation...')\n",
    "#gbdt_2_model = GradientBoostingClassifier(n_estimators=50, max_depth=2)\n",
    "\n",
    "#gbdt_2_model.fit(X_train, y_train)\n",
    "\n",
    "#gbdt_2_predictions = gbdt_2_model.predict_proba(X_test)[:, 1].tolist()\n",
    "\n",
    "#gbdt_10_model = GradientBoostingClassifier(n_estimators=50, max_depth=10)\n",
    "\n",
    "\n",
    "#gbdt_10_model.fit(X_train, y_train)\n",
    "\n",
    "#gbdt_10_predictions = gbdt_10_model.predict_proba(X_test)[:, 1].tolist()\n",
    "\n",
    "#print('End')"
   ]
  },
  {
   "cell_type": "code",
   "execution_count": 285,
   "metadata": {},
   "outputs": [
    {
     "name": "stdout",
     "output_type": "stream",
     "text": [
      "Begin GBDT Implementation with Class Weights...\n",
      "End\n"
     ]
    }
   ],
   "source": [
    "from sklearn.ensemble import GradientBoostingClassifier\n",
    "from sklearn.model_selection import train_test_split\n",
    "import numpy as np\n",
    "\n",
    "# Split the data into training and testing sets\n",
    "X_train, X_test, y_train, y_test = train_test_split(X, y, test_size=0.33, random_state=1234)\n",
    "\n",
    "# Calculate class weights\n",
    "class_weight = len(y_train) / (2 * sum(y_train))\n",
    "\n",
    "# Initialize and train the Gradient Boosting models with class weights\n",
    "print('Begin GBDT Implementation with Class Weights...')\n",
    "\n",
    "# GBDT with max_depth = 2\n",
    "gbdt_2_model = GradientBoostingClassifier(n_estimators=50, max_depth=2, random_state=1234)\n",
    "sample_weight_2 = np.where(y_train == 0, 1, class_weight)\n",
    "gbdt_2_model.fit(X_train, y_train, sample_weight=sample_weight_2)\n",
    "gbdt_2_predictions = gbdt_2_model.predict_proba(X_test)[:, 1].tolist()\n",
    "\n",
    "# GBDT with max_depth = 10\n",
    "gbdt_10_model = GradientBoostingClassifier(n_estimators=50, max_depth=10, random_state=1234)\n",
    "sample_weight_10 = np.where(y_train == 0, 1, class_weight)\n",
    "gbdt_10_model.fit(X_train, y_train, sample_weight=sample_weight_10)\n",
    "gbdt_10_predictions = gbdt_10_model.predict_proba(X_test)[:, 1].tolist()\n",
    "\n",
    "print('End')\n"
   ]
  },
  {
   "cell_type": "code",
   "execution_count": 286,
   "metadata": {},
   "outputs": [
    {
     "name": "stdout",
     "output_type": "stream",
     "text": [
      "Computing ROC Curve...\n",
      "End\n"
     ]
    }
   ],
   "source": [
    "# evalutation metrics for Gradient Boost\n",
    "print('Computing ROC Curve...')\n",
    "fpr_2, tpr_2, thresholds_2 = roc_curve(y_test, gbdt_2_predictions)\n",
    "fpr_10, tpr_10, thresholds_10 = roc_curve(y_test, gbdt_10_predictions)\n",
    "print('End')"
   ]
  },
  {
   "cell_type": "code",
   "execution_count": 287,
   "metadata": {},
   "outputs": [
    {
     "name": "stdout",
     "output_type": "stream",
     "text": [
      "Metrics for gbdt_2_model:\n",
      "Accuracy: 0.7722174288179465\n",
      "Precision: 0.576874205844981\n",
      "Recall: 0.699537750385208\n",
      "F1 Score: 0.6323119777158774\n",
      "ROC AUC Score: 0.8300967243701651\n",
      "Confusion Matrix:\n",
      "[[1336  333]\n",
      " [ 195  454]]\n",
      "\n",
      "Metrics for gbdt_10_model:\n",
      "Accuracy: 0.7571182053494392\n",
      "Precision: 0.5689102564102564\n",
      "Recall: 0.5469953775038521\n",
      "F1 Score: 0.5577376276512176\n",
      "ROC AUC Score: 0.8034534394528708\n",
      "Confusion Matrix:\n",
      "[[1400  269]\n",
      " [ 294  355]]\n"
     ]
    }
   ],
   "source": [
    "from sklearn.metrics import accuracy_score, precision_score, recall_score, f1_score, roc_auc_score, confusion_matrix\n",
    "\n",
    "# Predictions from gbdt_2_model\n",
    "gbdt_2_predictions = gbdt_2_model.predict(X_test)\n",
    "\n",
    "# Predictions from gbdt_10_model\n",
    "gbdt_10_predictions = gbdt_10_model.predict(X_test)\n",
    "\n",
    "# True labels (y_test) remain the same\n",
    "\n",
    "# Calculate evaluation metrics for gbdt_2_model\n",
    "accuracy_2 = accuracy_score(y_test, gbdt_2_predictions)\n",
    "precision_2 = precision_score(y_test, gbdt_2_predictions)\n",
    "recall_2 = recall_score(y_test, gbdt_2_predictions)\n",
    "f1_2 = f1_score(y_test, gbdt_2_predictions)\n",
    "roc_auc_2 = roc_auc_score(y_test, gbdt_2_model.predict_proba(X_test)[:, 1])\n",
    "confusion_matrix_2 = confusion_matrix(y_test, gbdt_2_predictions)\n",
    "\n",
    "# Calculate evaluation metrics for gbdt_10_model\n",
    "accuracy_10 = accuracy_score(y_test, gbdt_10_predictions)\n",
    "precision_10 = precision_score(y_test, gbdt_10_predictions)\n",
    "recall_10 = recall_score(y_test, gbdt_10_predictions)\n",
    "f1_10 = f1_score(y_test, gbdt_10_predictions)\n",
    "roc_auc_10 = roc_auc_score(y_test, gbdt_10_model.predict_proba(X_test)[:, 1])\n",
    "confusion_matrix_10 = confusion_matrix(y_test, gbdt_10_predictions)\n",
    "\n",
    "print(\"Metrics for gbdt_2_model:\")\n",
    "print(f\"Accuracy: {accuracy_2}\")\n",
    "print(f\"Precision: {precision_2}\")\n",
    "print(f\"Recall: {recall_2}\")\n",
    "print(f\"F1 Score: {f1_2}\")\n",
    "print(f\"ROC AUC Score: {roc_auc_2}\")\n",
    "print(f\"Confusion Matrix:\\n{confusion_matrix_2}\")\n",
    "\n",
    "print(\"\\nMetrics for gbdt_10_model:\")\n",
    "print(f\"Accuracy: {accuracy_10}\")\n",
    "print(f\"Precision: {precision_10}\")\n",
    "print(f\"Recall: {recall_10}\")\n",
    "print(f\"F1 Score: {f1_10}\")\n",
    "print(f\"ROC AUC Score: {roc_auc_10}\")\n",
    "print(f\"Confusion Matrix:\\n{confusion_matrix_10}\")\n"
   ]
  },
  {
   "cell_type": "code",
   "execution_count": 288,
   "metadata": {},
   "outputs": [
    {
     "name": "stdout",
     "output_type": "stream",
     "text": [
      "Plotting ROC Curve...\n"
     ]
    },
    {
     "name": "stderr",
     "output_type": "stream",
     "text": [
      "/opt/homebrew/lib/python3.10/site-packages/seaborn/_oldcore.py:1498: FutureWarning: is_categorical_dtype is deprecated and will be removed in a future version. Use isinstance(dtype, CategoricalDtype) instead\n",
      "  if pd.api.types.is_categorical_dtype(vector):\n",
      "/opt/homebrew/lib/python3.10/site-packages/seaborn/_oldcore.py:1498: FutureWarning: is_categorical_dtype is deprecated and will be removed in a future version. Use isinstance(dtype, CategoricalDtype) instead\n",
      "  if pd.api.types.is_categorical_dtype(vector):\n",
      "/opt/homebrew/lib/python3.10/site-packages/seaborn/_oldcore.py:1119: FutureWarning: use_inf_as_na option is deprecated and will be removed in a future version. Convert inf values to NaN before operating instead.\n",
      "  with pd.option_context('mode.use_inf_as_na', True):\n",
      "/opt/homebrew/lib/python3.10/site-packages/seaborn/_oldcore.py:1119: FutureWarning: use_inf_as_na option is deprecated and will be removed in a future version. Convert inf values to NaN before operating instead.\n",
      "  with pd.option_context('mode.use_inf_as_na', True):\n",
      "/opt/homebrew/lib/python3.10/site-packages/seaborn/_oldcore.py:1498: FutureWarning: is_categorical_dtype is deprecated and will be removed in a future version. Use isinstance(dtype, CategoricalDtype) instead\n",
      "  if pd.api.types.is_categorical_dtype(vector):\n",
      "/opt/homebrew/lib/python3.10/site-packages/seaborn/_oldcore.py:1498: FutureWarning: is_categorical_dtype is deprecated and will be removed in a future version. Use isinstance(dtype, CategoricalDtype) instead\n",
      "  if pd.api.types.is_categorical_dtype(vector):\n",
      "/opt/homebrew/lib/python3.10/site-packages/seaborn/_oldcore.py:1119: FutureWarning: use_inf_as_na option is deprecated and will be removed in a future version. Convert inf values to NaN before operating instead.\n",
      "  with pd.option_context('mode.use_inf_as_na', True):\n",
      "/opt/homebrew/lib/python3.10/site-packages/seaborn/_oldcore.py:1119: FutureWarning: use_inf_as_na option is deprecated and will be removed in a future version. Convert inf values to NaN before operating instead.\n",
      "  with pd.option_context('mode.use_inf_as_na', True):\n"
     ]
    },
    {
     "data": {
      "image/png": "[encoded data removed]",
      "text/plain": [
       "<Figure size 640x480 with 1 Axes>"
      ]
     },
     "metadata": {},
     "output_type": "display_data"
    }
   ],
   "source": [
    "# data visualization for Gradient Boost\n",
    "print('Plotting ROC Curve...')\n",
    "\n",
    "fig = plt.figure()\n",
    "ax = fig.add_subplot(111)\n",
    "\n",
    "\n",
    "sns.lineplot(x=fpr_2, y=tpr_2, marker = 'o')\n",
    "sns.lineplot(x=fpr_10, y=tpr_10, marker = 'o')\n",
    "\n",
    "plt.title(\"Receiver operating characteristic (ROC) curve\")\n",
    "plt.xlabel(\"False positive rate\")\n",
    "plt.ylabel(\"True positive rate\")\n",
    "plt.legend(['GBDT with max_depth=2', 'GBDT with max_depth=10'])\n",
    "plt.show()"
   ]
  },
  {
   "cell_type": "code",
   "execution_count": 289,
   "metadata": {},
   "outputs": [
    {
     "name": "stdout",
     "output_type": "stream",
     "text": [
      "AUC of the GBDT model with a max depth of 2 is 0.830\n",
      "AUC of the GBDT model with a max depth of 10 is 0.803\n"
     ]
    }
   ],
   "source": [
    "auc_2 = auc(fpr_2, tpr_2)\n",
    "\n",
    "print(\"AUC of the GBDT model with a max depth of 2 is {:.3f}\".format(auc_2))\n",
    "\n",
    "auc_10 = auc(fpr_10, tpr_10)\n",
    "\n",
    "print(\"AUC of the GBDT model with a max depth of 10 is {:.3f}\".format(auc_10))"
   ]
  },
  {
   "cell_type": "code",
   "execution_count": 290,
   "metadata": {},
   "outputs": [
    {
     "name": "stderr",
     "output_type": "stream",
     "text": [
      "/opt/homebrew/lib/python3.10/site-packages/sklearn/ensemble/_base.py:156: FutureWarning: `base_estimator` was renamed to `estimator` in version 1.2 and will be removed in 1.4.\n",
      "  warnings.warn(\n"
     ]
    }
   ],
   "source": [
    "# modeling using Adaboost\n",
    "from sklearn.ensemble import AdaBoostClassifier  # for classification\n",
    "X_train, X_test, y_train, y_test = train_test_split(X, y, test_size=0.2, random_state=42)\n",
    "model = AdaBoostClassifier(base_estimator=None, n_estimators=50, random_state=42)\n",
    "model.fit(X_train, y_train)\n",
    "y_pred = model.predict(X_test)\n",
    "accuracy = accuracy_score(y_test, y_pred)\n"
   ]
  },
  {
   "cell_type": "code",
   "execution_count": 291,
   "metadata": {},
   "outputs": [
    {
     "name": "stdout",
     "output_type": "stream",
     "text": [
      "Accuracy: 0.7907473309608541\n",
      "Precision: 0.656934306569343\n",
      "Recall: 0.47368421052631576\n",
      "F1-Score: 0.5504587155963302\n",
      "ROC AUC: 0.6909884467265726\n",
      "Confusion Matrix:\n",
      "[[931  94]\n",
      " [200 180]]\n"
     ]
    }
   ],
   "source": [
    "# evalutation metrics for Adaboost\n",
    "\n",
    "# Calculate Accuracy\n",
    "accuracy = accuracy_score(y_test, y_pred)\n",
    "\n",
    "# Calculate Precision\n",
    "precision = precision_score(y_test, y_pred)\n",
    "\n",
    "# Calculate Recall\n",
    "recall = recall_score(y_test, y_pred)\n",
    "\n",
    "# Calculate F1-Score\n",
    "f1 = f1_score(y_test, y_pred)\n",
    "\n",
    "# Calculate ROC AUC\n",
    "roc_auc = roc_auc_score(y_test, y_pred) \n",
    "\n",
    "# Generate Confusion Matrix\n",
    "conf_matrix = confusion_matrix(y_test, y_pred)\n",
    "\n",
    "print(f\"Accuracy: {accuracy}\")\n",
    "print(f\"Precision: {precision}\")\n",
    "print(f\"Recall: {recall}\")\n",
    "print(f\"F1-Score: {f1}\")\n",
    "print(f\"ROC AUC: {roc_auc}\")\n",
    "print(\"Confusion Matrix:\")\n",
    "print(conf_matrix)"
   ]
  },
  {
   "cell_type": "code",
   "execution_count": 292,
   "metadata": {},
   "outputs": [],
   "source": [
    "# data visualization for Adaboost"
   ]
  },
  {
   "cell_type": "code",
   "execution_count": 293,
   "metadata": {},
   "outputs": [],
   "source": [
    "# Feature Engineering"
   ]
  },
  {
   "cell_type": "code",
   "execution_count": 294,
   "metadata": {},
   "outputs": [
    {
     "data": {
      "text/plain": [
       "Index(['gender', 'SeniorCitizen', 'Partner', 'Dependents', 'scaledtenure',\n",
       "       'PhoneService', 'MultipleLines', 'InternetService', 'OnlineSecurity',\n",
       "       'OnlineBackup', 'DeviceProtection', 'TechSupport', 'StreamingTV',\n",
       "       'StreamingMovies', 'Contract_Month-to-month', 'Contract_One year',\n",
       "       'Contract_Two year', 'PaperlessBilling', 'AutomaticPayment',\n",
       "       'winsorized_MonthlyCharges', 'scaledTotalCharges', 'Churn'],\n",
       "      dtype='object')"
      ]
     },
     "execution_count": 294,
     "metadata": {},
     "output_type": "execute_result"
    }
   ],
   "source": [
    "df_cleansed.columns"
   ]
  },
  {
   "cell_type": "code",
   "execution_count": 295,
   "metadata": {},
   "outputs": [
    {
     "name": "stdout",
     "output_type": "stream",
     "text": [
      "    Partner  Dependents FamilyTies\n",
      "0      True       False          1\n",
      "1     False       False          0\n",
      "2     False       False          0\n",
      "3     False       False          0\n",
      "4     False       False          0\n",
      "5     False       False          0\n",
      "6     False        True          1\n",
      "7     False       False          0\n",
      "8      True       False          1\n",
      "9     False        True          1\n",
      "10     True        True          1\n",
      "11    False       False          0\n",
      "12     True       False          1\n",
      "13    False       False          0\n",
      "14    False       False          0\n",
      "15     True        True          1\n",
      "16    False       False          0\n",
      "17    False        True          1\n",
      "18     True        True          1\n",
      "19    False       False          0\n"
     ]
    },
    {
     "name": "stderr",
     "output_type": "stream",
     "text": [
      "/var/folders/xg/p3q3yztd1tzgf72581g38x4h0000gn/T/ipykernel_26612/3066811513.py:3: SettingWithCopyWarning: \n",
      "A value is trying to be set on a copy of a slice from a DataFrame.\n",
      "Try using .loc[row_indexer,col_indexer] = value instead\n",
      "\n",
      "See the caveats in the documentation: https://pandas.pydata.org/pandas-docs/stable/user_guide/indexing.html#returning-a-view-versus-a-copy\n",
      "  df_cleansed['FamilyTies'] = df_cleansed.apply(lambda row: '1' if row['Partner'] == 1 or row['Dependents'] == 1 else '0', axis=1)\n"
     ]
    }
   ],
   "source": [
    "# Combine 'Partner' and 'Dependents' into a single feature that indicates if a customer has any family ties.\n",
    "\n",
    "df_cleansed['FamilyTies'] = df_cleansed.apply(lambda row: '1' if row['Partner'] == 1 or row['Dependents'] == 1 else '0', axis=1)\n",
    "\n",
    "# Print the DataFrame\n",
    "print(df_cleansed[['Partner','Dependents','FamilyTies']].head(20))"
   ]
  },
  {
   "cell_type": "code",
   "execution_count": 296,
   "metadata": {},
   "outputs": [
    {
     "name": "stdout",
     "output_type": "stream",
     "text": [
      "      ContractType\n",
      "0                0\n",
      "1                1\n",
      "2                0\n",
      "3                1\n",
      "4                0\n",
      "...            ...\n",
      "7038             1\n",
      "7039             1\n",
      "7040             0\n",
      "7041             0\n",
      "7042             2\n",
      "\n",
      "[7022 rows x 1 columns]\n"
     ]
    },
    {
     "name": "stderr",
     "output_type": "stream",
     "text": [
      "/var/folders/xg/p3q3yztd1tzgf72581g38x4h0000gn/T/ipykernel_26612/4139068009.py:2: SettingWithCopyWarning: \n",
      "A value is trying to be set on a copy of a slice from a DataFrame.\n",
      "Try using .loc[row_indexer,col_indexer] = value instead\n",
      "\n",
      "See the caveats in the documentation: https://pandas.pydata.org/pandas-docs/stable/user_guide/indexing.html#returning-a-view-versus-a-copy\n",
      "  df_cleansed['ContractType'] = df[['Contract_Month-to-month', 'Contract_One year', 'Contract_Two year']].idxmax(axis=1)\n",
      "/var/folders/xg/p3q3yztd1tzgf72581g38x4h0000gn/T/ipykernel_26612/4139068009.py:5: SettingWithCopyWarning: \n",
      "A value is trying to be set on a copy of a slice from a DataFrame\n",
      "\n",
      "See the caveats in the documentation: https://pandas.pydata.org/pandas-docs/stable/user_guide/indexing.html#returning-a-view-versus-a-copy\n",
      "  df_cleansed['ContractType'].replace({\n"
     ]
    }
   ],
   "source": [
    "# Combine the 'Contract' columns into a single feature with the contract names\n",
    "df_cleansed['ContractType'] = df[['Contract_Month-to-month', 'Contract_One year', 'Contract_Two year']].idxmax(axis=1)\n",
    "\n",
    "# Replace the contract names with 0, 1, and 2\n",
    "df_cleansed['ContractType'].replace({\n",
    "    'Contract_Month-to-month': 0,\n",
    "    'Contract_One year': 1,\n",
    "    'Contract_Two year': 2\n",
    "}, inplace=True)\n",
    "\n",
    "print(df_cleansed[['ContractType']])"
   ]
  },
  {
   "cell_type": "code",
   "execution_count": 297,
   "metadata": {},
   "outputs": [
    {
     "name": "stdout",
     "output_type": "stream",
     "text": [
      "0       False\n",
      "1       False\n",
      "2       False\n",
      "3        True\n",
      "4       False\n",
      "        ...  \n",
      "7038    False\n",
      "7039     True\n",
      "7040    False\n",
      "7041    False\n",
      "7042     True\n",
      "Name: AutomaticPayment, Length: 7022, dtype: bool\n"
     ]
    }
   ],
   "source": [
    "print(df_cleansed['AutomaticPayment'])"
   ]
  },
  {
   "cell_type": "code",
   "execution_count": 306,
   "metadata": {},
   "outputs": [
    {
     "name": "stdout",
     "output_type": "stream",
     "text": [
      "      scaledtenure TenureCategory\n",
      "0        17.245714            New\n",
      "1        20.640000        Regular\n",
      "2        17.348571            New\n",
      "3        21.771429        Regular\n",
      "4        17.348571            New\n",
      "...            ...            ...\n",
      "7038     19.611429        Regular\n",
      "7039     24.548571        Regular\n",
      "7040     18.274286        Regular\n",
      "7041     17.554286            New\n",
      "7042     23.931429        Regular\n",
      "\n",
      "[7022 rows x 2 columns]\n"
     ]
    },
    {
     "name": "stderr",
     "output_type": "stream",
     "text": [
      "/var/folders/xg/p3q3yztd1tzgf72581g38x4h0000gn/T/ipykernel_26612/3284957131.py:11: SettingWithCopyWarning: \n",
      "A value is trying to be set on a copy of a slice from a DataFrame.\n",
      "Try using .loc[row_indexer,col_indexer] = value instead\n",
      "\n",
      "See the caveats in the documentation: https://pandas.pydata.org/pandas-docs/stable/user_guide/indexing.html#returning-a-view-versus-a-copy\n",
      "  df_cleansed['TenureCategory'] = np.select(conditions, category_labels, default='Unknown')\n"
     ]
    }
   ],
   "source": [
    "# Define the conditions and category labels\n",
    "conditions = [\n",
    "    (df_cleansed['scaledtenure'] < 18),\n",
    "    (df_cleansed['scaledtenure'] >= 18) & (df_cleansed['scaledtenure'] <= 72),\n",
    "    (df_cleansed['scaledtenure'] > 72)\n",
    "]\n",
    "\n",
    "category_labels = ['New', 'Regular', 'Old']\n",
    "\n",
    "# Use numpy.select to create the 'TenureCategory' column based on the conditions\n",
    "df_cleansed['TenureCategory'] = np.select(conditions, category_labels, default='Unknown')\n",
    "\n",
    "# Display the updated DataFrame\n",
    "print(df_cleansed[['scaledtenure', 'TenureCategory']])"
   ]
  },
  {
   "cell_type": "code",
   "execution_count": 307,
   "metadata": {},
   "outputs": [
    {
     "name": "stdout",
     "output_type": "stream",
     "text": [
      "['New' 'Regular' 'Old'] TenureCategory\n",
      "Regular    5298\n",
      "New        1722\n",
      "Old           2\n",
      "Name: count, dtype: int64\n"
     ]
    }
   ],
   "source": [
    "# Checking how many unique values in column (there are three important values)\n",
    "unique_values = df_cleansed['TenureCategory'].unique()\n",
    "value_counts = df_cleansed['TenureCategory'].value_counts()\n",
    "\n",
    "print(unique_values, value_counts)"
   ]
  },
  {
   "cell_type": "code",
   "execution_count": 330,
   "metadata": {},
   "outputs": [
    {
     "data": {
      "text/plain": [
       "customerID                    object\n",
       "gender                         int64\n",
       "SeniorCitizen                  int64\n",
       "Partner                        int64\n",
       "Dependents                     int64\n",
       "tenure                         int64\n",
       "PhoneService                   int64\n",
       "MultipleLines                  int64\n",
       "InternetService                int64\n",
       "OnlineSecurity                 int64\n",
       "OnlineBackup                   int64\n",
       "DeviceProtection               int64\n",
       "TechSupport                    int64\n",
       "StreamingTV                    int64\n",
       "StreamingMovies                int64\n",
       "PaperlessBilling               int64\n",
       "AutomaticPayment               int64\n",
       "MonthlyCharges               float64\n",
       "TotalCharges                 float64\n",
       "Churn                          int64\n",
       "Contract_Month-to-month         bool\n",
       "Contract_One year               bool\n",
       "Contract_Two year               bool\n",
       "scaledtenure                 float64\n",
       "winsorized_MonthlyCharges    float64\n",
       "scaledTotalCharges           float64\n",
       "InternetSecurityLevel          int64\n",
       "dtype: object"
      ]
     },
     "execution_count": 330,
     "metadata": {},
     "output_type": "execute_result"
    }
   ],
   "source": [
    "df.dtypes"
   ]
  },
  {
   "cell_type": "code",
   "execution_count": 334,
   "metadata": {},
   "outputs": [
    {
     "name": "stdout",
     "output_type": "stream",
     "text": [
      "      InternetService  OnlineSecurity  OnlineBackup  DeviceProtection  \\\n",
      "0                True           False          True             False   \n",
      "1                True            True         False              True   \n",
      "2                True            True          True             False   \n",
      "3                True            True         False              True   \n",
      "4                True           False         False             False   \n",
      "...               ...             ...           ...               ...   \n",
      "7038             True            True         False              True   \n",
      "7039             True           False          True              True   \n",
      "7040             True            True         False             False   \n",
      "7041             True           False         False             False   \n",
      "7042             True            True         False              True   \n",
      "\n",
      "      TechSupport  InternetSecurityLevel  \n",
      "0           False                      2  \n",
      "1           False                      2  \n",
      "2           False                      2  \n",
      "3            True                      2  \n",
      "4           False                      1  \n",
      "...           ...                    ...  \n",
      "7038         True                      2  \n",
      "7039        False                      2  \n",
      "7040        False                      2  \n",
      "7041        False                      1  \n",
      "7042         True                      2  \n",
      "\n",
      "[7022 rows x 6 columns]\n"
     ]
    }
   ],
   "source": [
    "\n",
    "# Define a function to categorize the level of internet service and security\n",
    "def categorize_internet_security(row):\n",
    "    # Check the 'InternetService' column and other related columns\n",
    "    if row['InternetService'] == 0:\n",
    "        return 0  # No Internet\n",
    "    elif row['OnlineSecurity'] == 0 and row['OnlineBackup'] == 0 and row['DeviceProtection'] == 0 and row['TechSupport'] == 0:\n",
    "        return 1  # Basic Internet\n",
    "    else:\n",
    "        return 2  # Premium Internet\n",
    "    \n",
    "# Apply the function to create a new column 'InternetSecurityLevel'\n",
    "df_cleansed['InternetSecurityLevel'] = df.apply(categorize_internet_security, axis=1)\n",
    "\n",
    "# Display the updated DataFrame\n",
    "print(df_cleansed[['InternetService', 'OnlineSecurity', 'OnlineBackup', 'DeviceProtection', 'TechSupport', 'InternetSecurityLevel']])\n"
   ]
  },
  {
   "cell_type": "code",
   "execution_count": 335,
   "metadata": {},
   "outputs": [
    {
     "name": "stdout",
     "output_type": "stream",
     "text": [
      "[2 1 0] InternetSecurityLevel\n",
      "2    4237\n",
      "0    1518\n",
      "1    1267\n",
      "Name: count, dtype: int64\n"
     ]
    }
   ],
   "source": [
    "# Checking how many unique values in column\n",
    "unique_values = df_cleansed['InternetSecurityLevel'].unique()\n",
    "value_counts = df_cleansed['InternetSecurityLevel'].value_counts()\n",
    "\n",
    "print(unique_values, value_counts)"
   ]
  },
  {
   "cell_type": "code",
   "execution_count": 339,
   "metadata": {},
   "outputs": [
    {
     "name": "stdout",
     "output_type": "stream",
     "text": [
      "      ContractType  InternetSecurityLevel                InteractionTerm\n",
      "0                0                      2  Contract_0_InternetSecurity_2\n",
      "1                1                      2  Contract_1_InternetSecurity_2\n",
      "2                0                      2  Contract_0_InternetSecurity_2\n",
      "3                1                      2  Contract_1_InternetSecurity_2\n",
      "4                0                      1  Contract_0_InternetSecurity_1\n",
      "...            ...                    ...                            ...\n",
      "7038             1                      2  Contract_1_InternetSecurity_2\n",
      "7039             1                      2  Contract_1_InternetSecurity_2\n",
      "7040             0                      2  Contract_0_InternetSecurity_2\n",
      "7041             0                      1  Contract_0_InternetSecurity_1\n",
      "7042             2                      2  Contract_2_InternetSecurity_2\n",
      "\n",
      "[7022 rows x 3 columns]\n"
     ]
    }
   ],
   "source": [
    "# Define a function to create interaction terms for each combination\n",
    "def create_interaction_term(row):\n",
    "    contract = row['ContractType']\n",
    "    internet_security = row['InternetSecurityLevel']\n",
    "    return f'Contract_{contract}_InternetSecurity_{internet_security}'\n",
    "\n",
    "# Apply the function to create a new column for each interaction term\n",
    "df_cleansed['InteractionTerm'] = df_cleansed.apply(create_interaction_term, axis=1)\n",
    "\n",
    "# Display the updated DataFrame\n",
    "print(df_cleansed[['ContractType', 'InternetSecurityLevel', 'InteractionTerm']])"
   ]
  },
  {
   "cell_type": "code",
   "execution_count": 341,
   "metadata": {},
   "outputs": [
    {
     "name": "stdout",
     "output_type": "stream",
     "text": [
      "['Contract_0_InternetSecurity_2' 'Contract_1_InternetSecurity_2'\n",
      " 'Contract_0_InternetSecurity_1' 'Contract_2_InternetSecurity_0'\n",
      " 'Contract_2_InternetSecurity_2' 'Contract_1_InternetSecurity_0'\n",
      " 'Contract_0_InternetSecurity_0' 'Contract_1_InternetSecurity_1'\n",
      " 'Contract_2_InternetSecurity_1'] InteractionTerm\n",
      "Contract_0_InternetSecurity_2    2139\n",
      "Contract_0_InternetSecurity_1    1202\n",
      "Contract_1_InternetSecurity_2    1054\n",
      "Contract_2_InternetSecurity_2    1044\n",
      "Contract_2_InternetSecurity_0     632\n",
      "Contract_0_InternetSecurity_0     523\n",
      "Contract_1_InternetSecurity_0     363\n",
      "Contract_1_InternetSecurity_1      58\n",
      "Contract_2_InternetSecurity_1       7\n",
      "Name: count, dtype: int64\n"
     ]
    }
   ],
   "source": [
    "# Checking how many unique values in column\n",
    "unique_values = df_cleansed['InteractionTerm'].unique()\n",
    "value_counts = df_cleansed['InteractionTerm'].value_counts()\n",
    "\n",
    "print(unique_values, value_counts)"
   ]
  },
  {
   "cell_type": "code",
   "execution_count": 344,
   "metadata": {},
   "outputs": [
    {
     "name": "stdout",
     "output_type": "stream",
     "text": [
      "      winsorized_MonthlyCharges  scaledTotalCharges  ChargeRatio\n",
      "0                         35.50           23.077441     1.538299\n",
      "1                         56.95          877.580822     0.064894\n",
      "2                         53.85           59.056047     0.911846\n",
      "3                         42.30          855.180348     0.049463\n",
      "4                         70.70           79.044161     0.894437\n",
      "...                         ...                 ...          ...\n",
      "7038                      81.44          923.990007     0.088139\n",
      "7039                      81.44         3392.591069     0.024005\n",
      "7040                      35.50          168.554154     0.210615\n",
      "7041                      74.40          150.243203     0.495197\n",
      "7042                      81.44         3154.387884     0.025818\n",
      "\n",
      "[7022 rows x 3 columns]\n"
     ]
    }
   ],
   "source": [
    "# Assuming you have a DataFrame df with 'winsorized_MonthlyCharges' and 'scaledTotalCharges' columns\n",
    "\n",
    "# Calculate the ratio of 'winsorized_MonthlyCharges' to 'scaledTotalCharges'\n",
    "df_cleansed['ChargeRatio'] = df['winsorized_MonthlyCharges'] / df['scaledTotalCharges']\n",
    "\n",
    "# Display the updated DataFrame\n",
    "print(df_cleansed[['winsorized_MonthlyCharges', 'scaledTotalCharges', 'ChargeRatio']])"
   ]
  },
  {
   "cell_type": "code",
   "execution_count": 345,
   "metadata": {},
   "outputs": [
    {
     "name": "stdout",
     "output_type": "stream",
     "text": [
      "[1.53829884 0.06489431 0.91184566 ... 0.2106148  0.49519711 0.025818  ] ChargeRatio\n",
      "1.904170    11\n",
      "1.925526     9\n",
      "1.911236     8\n",
      "1.930337     8\n",
      "1.918354     8\n",
      "            ..\n",
      "0.088880     1\n",
      "0.057517     1\n",
      "0.032044     1\n",
      "0.124115     1\n",
      "0.025818     1\n",
      "Name: count, Length: 6719, dtype: int64\n"
     ]
    }
   ],
   "source": [
    "# Checking how many unique values in column\n",
    "unique_values = df_cleansed['ChargeRatio'].unique()\n",
    "value_counts = df_cleansed['ChargeRatio'].value_counts()\n",
    "\n",
    "print(unique_values, value_counts)"
   ]
  },
  {
   "cell_type": "code",
   "execution_count": 346,
   "metadata": {},
   "outputs": [
    {
     "name": "stdout",
     "output_type": "stream",
     "text": [
      "Maximum: 1.9722222222222223\n",
      "Minimum: 0.020360000000000007\n",
      "Range: 1.9518622222222224\n",
      "Average: 0.3036207248433892\n",
      "Standard Deviation: 0.4883706361033116\n"
     ]
    }
   ],
   "source": [
    "# Statistics on ChargeRatio\n",
    "maximum_CR = df_cleansed['ChargeRatio'].max()\n",
    "minimum_CR = df_cleansed['ChargeRatio'].min()\n",
    "data_range_CR = maximum_CR - minimum_CR\n",
    "average_CR = df_cleansed['ChargeRatio'].mean()\n",
    "std_deviation_CR = df_cleansed['ChargeRatio'].std()\n",
    "print(f\"Maximum: {maximum_CR}\")\n",
    "print(f\"Minimum: {minimum_CR}\")\n",
    "print(f\"Range: {data_range_CR}\")\n",
    "print(f\"Average: {average_CR}\")\n",
    "print(f\"Standard Deviation: {std_deviation_CR}\")"
   ]
  },
  {
   "cell_type": "code",
   "execution_count": null,
   "metadata": {},
   "outputs": [],
   "source": [
    "# fix dis ho \n",
    "import pandas as pd\n",
    "import numpy as np\n",
    "\n",
    "# Sample DataFrame with 'SpendingRatio' and 'Churn' columns\n",
    "data = {\n",
    "    'SpendingRatio': np.random.uniform(0, 2, 1000),  # Replace with your actual data\n",
    "    'Churn': np.random.choice([0, 1], 1000)  # Replace with your actual churn data (0 for retained, 1 for churned)\n",
    "}\n",
    "\n",
    "df = pd.DataFrame(data)\n",
    "\n",
    "# Define spending ratio segments (you can adjust the thresholds)\n",
    "low_ratio = df[df['SpendingRatio'] < 0.5]\n",
    "medium_ratio = df[(df['SpendingRatio'] >= 0.5) & (df['SpendingRatio'] < 1.0)]\n",
    "high_ratio = df[df['SpendingRatio'] >= 1.0]\n",
    "\n",
    "# Calculate churn rates for each segment\n",
    "churn_rate_low = low_ratio['Churn'].mean()\n",
    "churn_rate_medium = medium_ratio['Churn'].mean()\n",
    "churn_rate_high = high_ratio['Churn'].mean()\n",
    "\n",
    "print(\"Churn Rates:\")\n",
    "print(\"Low Spending Ratio:\", churn_rate_low)\n",
    "print(\"Medium Spending Ratio:\", churn_rate_medium)\n",
    "print(\"High Spending Ratio:\", churn_rate_high)\n"
   ]
  }
 ],
 "metadata": {
  "kernelspec": {
   "display_name": "Python 3",
   "language": "python",
   "name": "python3"
  },
  "language_info": {
   "codemirror_mode": {
    "name": "ipython",
    "version": 3
   },
   "file_extension": ".py",
   "mimetype": "text/x-python",
   "name": "python",
   "nbconvert_exporter": "python",
   "pygments_lexer": "ipython3",
   "version": "3.10.9"
  },
  "orig_nbformat": 4
 },
 "nbformat": 4,
 "nbformat_minor": 2
}
